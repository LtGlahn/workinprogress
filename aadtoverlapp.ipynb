{
 "cells": [
  {
   "cell_type": "markdown",
   "id": "5e2b2918",
   "metadata": {},
   "source": [
    "# Intern overlapp i trafikkmengde-data\n",
    "\n",
    "For interne analyseformål skal vi finne NVDB-objekter som er stedfestetpå samme sted \n",
    "på en eller flere lenkesekvenser. Objektene skal ha samme verdi for egenskapen _\"År, gjelder for\"_ \n",
    "og selvsagt også overlappende gyldighetsdatoer. Dvs to objekter stedfestet på samme sted på vegnettet er OK hvis forekomstene gjelder for ulike år. \n",
    "\n",
    "Jeg velger å gjøre analysen med Pandas-biblioteket i python. Prinsippet er enkelt: Finn overlapp mellom tabell A og en kopi av A, med regler som ekskluderer overlapp med samme rad, pluss spesialregelen om at egenskapstypen _År, gjelder for_ skal ha samme verdi. Overlapp er definert som overlapp i tid pluss overlapp i posisjon langs lenkesekvens. \n",
    "\n",
    "Merk at denne metoden gir symmetriske overlapp: Hvis rad 13 overlapper med rad 146, så vil du også finne overlapp mellom rad 146 og 13. Dette har jeg ikke luket ut fra datasettet. Tvert i mot er et en fordel når du utforsker data i kart at du ser både rad 13 og 146 i kartet... \n",
    "\n",
    "### Datakilde = TNE \n",
    "\n",
    "Ettersom vi p.t. mangler mulighet for lettvint dump av all tilgjengelig historikk for en \n",
    "vegobjekttype (evt avgrenset på fra- og tildato) så bruker vi den interne datakilden TNE. \n",
    "(Joda, vi kjenner til en workaround hvor vi [iterer over datoer](github.com/LtGlahn/workinprogress/blob/historisk-riksveg/README_hentrv532.md#nedlasting-av-data) for å hente alle  historiske data, men det er litt masete og tidkrevdende).  \n",
    "I stedet er det for meg kjappere å ta en tilsvarende dump fra det interne systemet TNE (tar ca 40 minutt). \n",
    "Dette er en GIS-plattform (arc SDE), og det innebærer at data må ombarbeides en del for å kunne \n",
    "utnytte denne plattformens styrker (og unngå en del svakheter). \n",
    "\n",
    "Her er de viktiste TNE-særhetene\n",
    "\n",
    "  * Data blir segmentert, dvs brutt opp i småbiter med en forekomst i TNE per lenkesekvens-bit. \n",
    "  * Stedfesting på Vegtrasé - topologinivå blir også kopiert til topologinivåene kjørebane- og kjørefelt. \n",
    "  * Topologinivåene i TNE angis med 0 = VT, 1 = VTKB, 2 = Kjørebane, 3 = Kjørefelt. \n",
    "  * Egenskapsnavnene er en ascii-forkortelse etterfulgt av ID til egenskapstypen, eks AR_4621 for egenskapstypen _4621 År, gjelder for_.\n",
    "  * Kolonnen _NETOBJECTTV_ID_ er satt sammen av  objektID og versjonsID, med semikolon imellom. \n",
    "  * ROUTE_ID = Veglenkesekvens ID, MEASURE = posisjon langs veglenkesekvens. \n",
    "  * Relasjoner blir ikke håndtert spesielt bra i TNE 2.7. Kolonnene _BA_<løpenr>_ skal liksom inneholde ID til datterobjekt, men her er det noe kluss med håndtering av lister. \n",
    "  * Datoer er håndtert som heltall mellom 19500101 og 99991231 \n",
    " \n",
    " \n",
    "# Resultater \n",
    "\n",
    "Fant 2 * 6266 overlapp. Ettersom jeg ikke har filtrert vekk symmetri så er det  12532 rader i datasettet, som kan lastes ned [her](https://github.com/LtGlahn/workinprogress/blob/master/aadtoverlapp.gpkg?raw=true). Mitt favorittformat er [OGC Geopackage](https://www.geopackage.org/), en sqlite-database hvor vi følger standarder for geografisk informasjon, men jeg kan lettvint dumpe til andre formater (csv, rein sqlite osv). \n",
    " \n",
    " \n",
    " ![Alle 1253 radene](./pics/aadtoverlapp_norge.png)\n",
    " \n",
    " \n",
    " Her er et eksempel med 4 meter overlapp: Blå tverrlinje er endepunktet på det øverste (nordligste) objektet `84811029:1`, mens den grønne linja er startpunktet på objekt `84811028:1`. \n",
    " \n",
    "![Alle 1253 radene](./pics/overlapp1.png)\n",
    "\n",
    "Dette eksemplet er for strekningen Børsa-Buvika, totalt ca 9 km fordelt på 2 objekter med 4.4m overlapp, gjelder for året 1989. \n",
    "![Alle 1253 radene](./pics/overlapp1kart.png)\n",
    "\n",
    "\n",
    "# Analyseprosess: Laster bibliotek "
   ]
  },
  {
   "cell_type": "code",
   "execution_count": 1,
   "id": "207f9b0b",
   "metadata": {},
   "outputs": [
    {
     "name": "stdout",
     "output_type": "stream",
     "text": [
      "Legger NVDB api til søkestien\n"
     ]
    }
   ],
   "source": [
    "import re\n",
    "import pdb\n",
    "from copy import deepcopy\n",
    "import sqlite3\n",
    "\n",
    "from shapely import wkt \n",
    "from shapely import geometry \n",
    "# from shapely.ops import unary_union\n",
    "import pandas as pd \n",
    "import geopandas as gpd \n",
    "from datetime import datetime\n",
    "\n",
    "import STARTHER\n",
    "import nvdbapiv3\n",
    "from nvdbapiv3 import apiforbindelse"
   ]
  },
  {
   "cell_type": "markdown",
   "id": "d1d95ee0",
   "metadata": {},
   "source": [
    "# Leser data"
   ]
  },
  {
   "cell_type": "code",
   "execution_count": 2,
   "id": "23634aa7",
   "metadata": {},
   "outputs": [
    {
     "name": "stderr",
     "output_type": "stream",
     "text": [
      "/home/jan/anaconda3/envs/geo2021aprV2/lib/python3.9/site-packages/geopandas/geodataframe.py:577: RuntimeWarning: Sequential read of iterator was interrupted. Resetting iterator. This can negatively impact the performance.\n",
      "  for feature in features_lst:\n"
     ]
    },
    {
     "name": "stdout",
     "output_type": "stream",
     "text": [
      "Datainnlesning: 6.2916494 minutt\n"
     ]
    }
   ],
   "source": [
    "t0 = datetime.now()\n",
    "# A = gpd.read_file( 'trafikkmengde_idag.gpkg' )\n",
    "A = gpd.read_file( 'trafikkmengde_alle.gpkg' )\n",
    "t1 = datetime.now()\n",
    "dt = t1 - t0\n",
    "print( 'Datainnlesning:', dt.total_seconds()/60, 'minutt' )"
   ]
  },
  {
   "cell_type": "markdown",
   "id": "c85ccdb8",
   "metadata": {},
   "source": [
    "# Data prepp "
   ]
  },
  {
   "cell_type": "code",
   "execution_count": 3,
   "id": "88f39c31",
   "metadata": {},
   "outputs": [],
   "source": [
    "A['FROM_MEASURE'] = A['FROM_MEASURE'].round( 8)\n",
    "A['TO_MEASURE'] = A['TO_MEASURE'].round( 8)"
   ]
  },
  {
   "cell_type": "code",
   "execution_count": 4,
   "id": "82eb75c4",
   "metadata": {},
   "outputs": [],
   "source": [
    "A['nvdbId'] = A['NETOBJECTTV_ID'].apply( lambda x : x.split(':')[0] )\n",
    "A['versjon'] = A['NETOBJECTTV_ID'].apply( lambda x : x.split(':')[1] )"
   ]
  },
  {
   "cell_type": "code",
   "execution_count": 5,
   "id": "436b0342",
   "metadata": {},
   "outputs": [],
   "source": [
    "col = [ 'nvdbId', 'versjon', 'NETOBJECTTV_ID', 'FROM_DATE', 'TO_DATE', \n",
    "        'SEQ_NO', 'TADT_4623', 'LANGX_4624', 'AR_4621', 'OPFR_6843', 'GRLG_4625', \n",
    "        'ANID_4620', 'TRAFA_7477', 'TPPM_5219', 'TPSD_5222', 'FADT_5220', 'FLNG_5221', \n",
    "        'KPAR_5223', 'MFAK_4622', 'AADTS_7475', 'AADTS_7476', 'VDB_I_7804', 'ROUTE_ID', \n",
    "        'FROM_MEASURE', 'TO_MEASURE', 'TOPOLOGY_LEVEL', 'geometry' ]"
   ]
  },
  {
   "cell_type": "code",
   "execution_count": 6,
   "id": "9df76af2",
   "metadata": {},
   "outputs": [],
   "source": [
    "# Redusert datasett for utvikling / test / debug\n",
    "# A = A.iloc[0:20].copy()"
   ]
  },
  {
   "cell_type": "code",
   "execution_count": 7,
   "id": "561d51aa",
   "metadata": {},
   "outputs": [],
   "source": [
    "# Gjør om til pandas dataframe og konverterer geometriobjekt => Well Known Text\n",
    "# (fordi join'en vår klager og sutrer når den møter et geometriobjekt i datasettet)\n",
    "A = pd.DataFrame( A )\n",
    "A['geometry'] = A['geometry'].apply( lambda x: x.to_wkt() if isinstance( x, geometry.linestring.LineString) else '')"
   ]
  },
  {
   "cell_type": "code",
   "execution_count": 8,
   "id": "43703639",
   "metadata": {},
   "outputs": [
    {
     "name": "stdout",
     "output_type": "stream",
     "text": [
      "Vi har  0 duplikater og kan bruke OBJECTID som unik ID\n"
     ]
    }
   ],
   "source": [
    "# Dobbeltsjekker at OBJECTID er unik. Dette er primærnøkkel i TNE-tabellen, så den bør helst være unik... \n",
    "dup =  len( A[ A['OBJECTID'].duplicated() ] )\n",
    "if dup == 0: \n",
    "    print( 'Vi har ', dup, 'duplikater og kan bruke OBJECTID som unik ID' )\n",
    "else:\n",
    "    print( 'PASS PÅ - vi har ', dup, 'duplikater og kan IKKE bruke OBJECTID som unik ID' )\n",
    "          "
   ]
  },
  {
   "cell_type": "markdown",
   "id": "3bd6bb9c",
   "metadata": {},
   "source": [
    "I TNE brukes _OBJECTID_ som primærnøkkel, så hvis den ikke er unik er noe alvorlig gærnt. \n",
    "\n",
    "### Dupliserer datasett\n",
    "\n",
    "Vi skal finne datasettets overlapp med seg selv. Dette løses best ved å finne overlapp mellom A og B hvor B er en kopi av A, men med regler som eksluderer et objekts overlapp med seg selv. Pluss selvsagt de andre reglene vi har (samme verdi for _'År, gjelder for'_, og overlapp i tid og rom)"
   ]
  },
  {
   "cell_type": "code",
   "execution_count": 9,
   "id": "e313f498",
   "metadata": {},
   "outputs": [],
   "source": [
    "B = A.copy()\n",
    "B = B.add_prefix( 'b_')"
   ]
  },
  {
   "cell_type": "code",
   "execution_count": 10,
   "id": "4f8c9c11",
   "metadata": {},
   "outputs": [
    {
     "name": "stdout",
     "output_type": "stream",
     "text": [
      "Kjøretid data prepp: 15.626001166666667 minutt\n"
     ]
    }
   ],
   "source": [
    "t2 = datetime.now()\n",
    "dt2 = t2 - t1\n",
    "print( 'Kjøretid data prepp:', dt2.total_seconds() / 60, 'minutt')"
   ]
  },
  {
   "cell_type": "markdown",
   "id": "38f7c189",
   "metadata": {},
   "source": [
    "# Finner overlapp\n",
    "\n",
    "Kolonnedefinisjon for SQL spørring:"
   ]
  },
  {
   "cell_type": "code",
   "execution_count": 11,
   "id": "cfd3f005",
   "metadata": {},
   "outputs": [],
   "source": [
    "col_vlinkA  = 'ROUTE_ID' \n",
    "col_startA  = 'FROM_MEASURE'\n",
    "col_sluttA  = 'TO_MEASURE'\n",
    "col_t0A     = 'FROM_DATE'\n",
    "col_t1A     = 'TO_DATE'\n",
    "\n",
    "col_vlinkB  = 'b_ROUTE_ID' \n",
    "col_startB  = 'b_FROM_MEASURE' \n",
    "col_sluttB  =  'b_TO_MEASURE'\n",
    "col_t0B     = 'b_FROM_DATE'\n",
    "col_t1B     = 'b_TO_DATE'\n",
    "\n"
   ]
  },
  {
   "cell_type": "code",
   "execution_count": 12,
   "id": "11a1a45c",
   "metadata": {},
   "outputs": [
    {
     "name": "stdout",
     "output_type": "stream",
     "text": [
      "select * from A\n",
      "INNER JOIN B ON\n",
      "A.OBJECTID != B.b_OBJECTID and\n",
      "A.AR_4621 = B.b_AR_4621 and\n",
      "A.ROUTE_ID = B.b_ROUTE_ID and\n",
      "A.FROM_MEASURE < B.b_TO_MEASURE and\n",
      "A.TO_MEASURE > B.b_FROM_MEASURE and\n",
      "A.FROM_DATE < B.b_TO_DATE and\n",
      "A.TO_DATE > B.b_FROM_DATE\n"
     ]
    }
   ],
   "source": [
    "qry = ( f\"select * from A\\n\"\n",
    "                f\"INNER JOIN B ON\\n\"\n",
    "                f\"A.OBJECTID != B.b_OBJECTID and\\n\"\n",
    "                f\"A.AR_4621 = B.b_AR_4621 and\\n\"\n",
    "                f\"A.{col_vlinkA} = B.{col_vlinkB} and\\n\"\n",
    "                f\"A.{col_startA} < B.{col_sluttB} and\\n\"\n",
    "                f\"A.{col_sluttA} > B.{col_startB} and\\n\"\n",
    "                f\"A.{col_t0A} < B.{col_t1B} and\\n\" \n",
    "                f\"A.{col_t1A} > B.{col_t0B}\"\n",
    "            )\n",
    "\n",
    "print( qry )"
   ]
  },
  {
   "cell_type": "code",
   "execution_count": 13,
   "id": "4a10028e",
   "metadata": {},
   "outputs": [],
   "source": [
    "conn = sqlite3.connect( ':memory:')\n",
    "A.to_sql( 'A', conn, index=False )\n",
    "B.to_sql( 'B', conn, index=False )\n",
    "joined = pd.read_sql_query( qry, conn )"
   ]
  },
  {
   "cell_type": "code",
   "execution_count": 14,
   "id": "b2eab420",
   "metadata": {},
   "outputs": [
    {
     "name": "stdout",
     "output_type": "stream",
     "text": [
      "Kjøretid join: 33.87213143333334 minutter\n"
     ]
    }
   ],
   "source": [
    "t3 = datetime.now()\n",
    "dt3 = t3 - t2\n",
    "print( 'Kjøretid join:', dt3.total_seconds()/60, 'minutter')"
   ]
  },
  {
   "cell_type": "markdown",
   "id": "7c60ad4b",
   "metadata": {},
   "source": [
    "# Hvor stor overlapp har vi? \n",
    "\n",
    "Basert på vegnettposisjoner (_FROM_MEASURE, TO_MEASURE_ ) kan vi lettvint finne om vi har overlapp i hele dette segmentets utstrekning, evt hvor stor andel overlapp vi har. Og ut fra geometriens lengde vet vi da også overlapp-lengden. \n",
    "\n",
    "\n",
    "Først litt Lager en GeoDataFrame basert på Well Known Text - verdien, slik at vi har geografiske objekt, ikke tekst. Dernest finner vi lengden av geometrien, andel overlapp og geometrisk lengde for overlapp. \n",
    "\n"
   ]
  },
  {
   "cell_type": "code",
   "execution_count": 15,
   "id": "c754f6fc",
   "metadata": {},
   "outputs": [],
   "source": [
    "joined['geometry'] = joined['geometry'].apply( lambda x: wkt.loads(x) if x != '' else geometry.LineString())\n",
    "\n",
    "minGdf = gpd.GeoDataFrame( joined, geometry='geometry', crs=5973 )    "
   ]
  },
  {
   "cell_type": "code",
   "execution_count": 33,
   "id": "aa1f4a83",
   "metadata": {},
   "outputs": [],
   "source": [
    "minGdf['geometrilengde'] = minGdf['geometry'].length"
   ]
  },
  {
   "cell_type": "code",
   "execution_count": 34,
   "id": "7c11c367",
   "metadata": {},
   "outputs": [
    {
     "data": {
      "text/plain": [
       "count    12532.000000\n",
       "mean       307.135711\n",
       "std       1091.405277\n",
       "min          0.000000\n",
       "25%         17.195740\n",
       "50%         47.833469\n",
       "75%        131.092365\n",
       "max      13785.475991\n",
       "Name: geometrilengde, dtype: float64"
      ]
     },
     "execution_count": 34,
     "metadata": {},
     "output_type": "execute_result"
    }
   ],
   "source": [
    "minGdf.geometrilengde.describe()"
   ]
  },
  {
   "cell_type": "code",
   "execution_count": 77,
   "id": "245fe77f",
   "metadata": {},
   "outputs": [],
   "source": [
    "def finnOverlappLengde( rad, meterlengde = False ): \n",
    "    \"\"\"\n",
    "    Finner andel overlapp basert på veglenkeposisjoner. Skal være et tall mellom \n",
    "    0 og 1, hvor 1 = overlapp i hele utstrekningen. \n",
    "    \"\"\"\n",
    "    overlapp_measure =  min( rad['TO_MEASURE'], rad['b_TO_MEASURE'] ) - \\\n",
    "                        max( rad['FROM_MEASURE'], rad['b_FROM_MEASURE'] ) \n",
    "                        \n",
    "    return overlapp_measure / ( rad['TO_MEASURE'] - rad['FROM_MEASURE']  )\n"
   ]
  },
  {
   "cell_type": "code",
   "execution_count": 58,
   "id": "dc53b6c2",
   "metadata": {},
   "outputs": [],
   "source": [
    "minGdf['overlappandel'] = minGdf.apply( finnOverlappLengde, axis=1)"
   ]
  },
  {
   "cell_type": "code",
   "execution_count": 61,
   "id": "78047098",
   "metadata": {},
   "outputs": [],
   "source": [
    "minGdf['overlapplengde'] = minGdf['geometrilengde'] * minGdf['overlappandel']"
   ]
  },
  {
   "cell_type": "code",
   "execution_count": 80,
   "id": "9e26ef74",
   "metadata": {},
   "outputs": [],
   "source": [
    "minGdf.to_file( 'aadtoverlapp.gpkg', layer='aadtoverlapp', driver='GPKG')"
   ]
  },
  {
   "cell_type": "markdown",
   "id": "f11a98e3",
   "metadata": {},
   "source": [
    "# Kolonner i datasettet: "
   ]
  },
  {
   "cell_type": "code",
   "execution_count": 66,
   "id": "a0b368a7",
   "metadata": {},
   "outputs": [
    {
     "name": "stdout",
     "output_type": "stream",
     "text": [
      "OBJECTID\n",
      "NETOBJECTTV_ID\n",
      "FROM_DATE\n",
      "TO_DATE\n",
      "SEQ_NO\n",
      "BA_200670_OID\n",
      "BA_201812_OID\n",
      "TADT_4623\n",
      "LANGX_4624\n",
      "AR_4621\n",
      "OPFR_6843\n",
      "GRLG_4625\n",
      "ANID_4620\n",
      "TRAFA_7477\n",
      "TPPM_5219\n",
      "TPSD_5222\n",
      "FADT_5220\n",
      "FLNG_5221\n",
      "KPAR_5223\n",
      "MFAK_4622\n",
      "AADTS_7475\n",
      "AADTS_7476\n",
      "VDB_I_7804\n",
      "ROUTE_ID\n",
      "FROM_MEASURE\n",
      "TO_MEASURE\n",
      "TOPOLOGY_LEVEL\n",
      "SHAPE_LEN\n",
      "geometry\n",
      "nvdbId\n",
      "versjon\n",
      "b_OBJECTID\n",
      "b_NETOBJECTTV_ID\n",
      "b_FROM_DATE\n",
      "b_TO_DATE\n",
      "b_SEQ_NO\n",
      "b_BA_200670_OID\n",
      "b_BA_201812_OID\n",
      "b_TADT_4623\n",
      "b_LANGX_4624\n",
      "b_AR_4621\n",
      "b_OPFR_6843\n",
      "b_GRLG_4625\n",
      "b_ANID_4620\n",
      "b_TRAFA_7477\n",
      "b_TPPM_5219\n",
      "b_TPSD_5222\n",
      "b_FADT_5220\n",
      "b_FLNG_5221\n",
      "b_KPAR_5223\n",
      "b_MFAK_4622\n",
      "b_AADTS_7475\n",
      "b_AADTS_7476\n",
      "b_VDB_I_7804\n",
      "b_ROUTE_ID\n",
      "b_FROM_MEASURE\n",
      "b_TO_MEASURE\n",
      "b_TOPOLOGY_LEVEL\n",
      "b_SHAPE_LEN\n",
      "b_geometry\n",
      "b_nvdbId\n",
      "b_versjon\n",
      "geometrilengde\n",
      "overlappandel\n",
      "overlapplengde\n"
     ]
    }
   ],
   "source": [
    "for ii in minGdf.columns:\n",
    "    print( ii)"
   ]
  },
  {
   "cell_type": "markdown",
   "id": "a7f4f60a",
   "metadata": {},
   "source": [
    "# Litt mer utforsking av datasettet"
   ]
  },
  {
   "cell_type": "code",
   "execution_count": 84,
   "id": "767ac398",
   "metadata": {},
   "outputs": [
    {
     "name": "stdout",
     "output_type": "stream",
     "text": [
      "Antall rader12532 antall overlapp-treff 6266.0 (symmetrisk)\n"
     ]
    }
   ],
   "source": [
    "print( f\"Antall rader{len( minGdf)} antall overlapp-treff { len( minGdf) / 2} (symmetrisk)\") "
   ]
  },
  {
   "cell_type": "code",
   "execution_count": 88,
   "id": "4f19cbbc",
   "metadata": {},
   "outputs": [
    {
     "data": {
      "text/plain": [
       "count       12532.0\n",
       "mean     20014001.0\n",
       "std        111856.0\n",
       "min      19710101.0\n",
       "25%      19900101.0\n",
       "50%      19990101.0\n",
       "75%      20100101.0\n",
       "max      20210201.0\n",
       "Name: FROM_DATE, dtype: float64"
      ]
     },
     "execution_count": 88,
     "metadata": {},
     "output_type": "execute_result"
    }
   ],
   "source": [
    "minGdf['FROM_DATE'].describe().round()"
   ]
  },
  {
   "cell_type": "code",
   "execution_count": 87,
   "id": "bc8fdd90",
   "metadata": {},
   "outputs": [
    {
     "data": {
      "text/plain": [
       "count    1.253200e+04\n",
       "mean     2.001400e+07\n",
       "std      1.118565e+05\n",
       "min      1.971010e+07\n",
       "25%      1.990010e+07\n",
       "50%      1.999010e+07\n",
       "75%      2.010010e+07\n",
       "max      2.021020e+07\n",
       "Name: FROM_DATE, dtype: float64"
      ]
     },
     "execution_count": 87,
     "metadata": {},
     "output_type": "execute_result"
    }
   ],
   "source": []
  }
 ],
 "metadata": {
  "kernelspec": {
   "display_name": "Python [conda env:geo2021aprV2]",
   "language": "python",
   "name": "conda-env-geo2021aprV2-py"
  },
  "language_info": {
   "codemirror_mode": {
    "name": "ipython",
    "version": 3
   },
   "file_extension": ".py",
   "mimetype": "text/x-python",
   "name": "python",
   "nbconvert_exporter": "python",
   "pygments_lexer": "ipython3",
   "version": "3.9.2"
  }
 },
 "nbformat": 4,
 "nbformat_minor": 5
}
