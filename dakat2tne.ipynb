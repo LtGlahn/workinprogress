{
 "cells": [
  {
   "cell_type": "code",
   "execution_count": 28,
   "metadata": {
    "collapsed": true
   },
   "outputs": [],
   "source": [
    "import collections\n",
    "import requests\n",
    "import pandas as pd\n"
   ]
  },
  {
   "cell_type": "code",
   "execution_count": 66,
   "metadata": {
    "collapsed": true
   },
   "outputs": [],
   "source": [
    "# url = 'https://www.vegvesen.no/nvdb/api/v3/vegobjekttyper.json'\n",
    "url = 'https://www.utv.vegvesen.no/nvdb/api/v3/vegobjekttyper.json'\n",
    "r = requests.get( url, params={ 'inkluder' : 'relasjonstyper'})\n",
    "vt = r.json()"
   ]
  },
  {
   "cell_type": "code",
   "execution_count": 81,
   "metadata": {},
   "outputs": [],
   "source": [
    "objliste = []\n",
    "# objtype = vt[0]\n",
    "for objtype in vt: \n",
    "    nybeskr = collections.OrderedDict()\n",
    "    nybeskr['ID'] = objtype['id']\n",
    "    nybeskr['Navn'] = objtype['navn']\n",
    "    nybeskr['allebarn'] = ''\n",
    "    allebarnliste = []\n",
    "\n",
    "    for counter, barn in enumerate( objtype['relasjonstyper']['barn']):\n",
    "        if 'type' in barn.keys(): \n",
    "            barnid = str( barn['type']['id'] )\n",
    "            navnestreng = barn['type']['navn']\n",
    "        else: \n",
    "            barnid = str( barn['innhold']['type']['id'] )\n",
    "            navnestreng = barn['innhold']['type']['navn']\n",
    "        \n",
    "        allebarnliste.append(barnid)\n",
    "        nybeskr['Barn' + str( counter+1)] = barnid\n",
    "        navnestreng.replace(';', '')\n",
    "        nybeskr['Navn' + str( counter+1)] = navnestreng\n",
    "    \n",
    "    nybeskr['allebarn'] = ','.join( allebarnliste)\n",
    "    objliste.append( nybeskr)\n",
    "\n"
   ]
  },
  {
   "cell_type": "code",
   "execution_count": 80,
   "metadata": {},
   "outputs": [
    {
     "data": {
      "text/plain": [
       "dict_keys(['relasjonstype', 'id', 'navn', 'egenskapstype', 'type'])"
      ]
     },
     "execution_count": 80,
     "metadata": {},
     "output_type": "execute_result"
    }
   ],
   "source": [
    "barn.keys()"
   ]
  },
  {
   "cell_type": "code",
   "execution_count": 82,
   "metadata": {},
   "outputs": [],
   "source": [
    "regneark = pd.DataFrame.from_records( objliste)\n"
   ]
  },
  {
   "cell_type": "code",
   "execution_count": 84,
   "metadata": {},
   "outputs": [],
   "source": [
    "regneark.to_csv( 'tnedakat.csv', sep=';', index=False, encoding='utf-8-sig')"
   ]
  },
  {
   "cell_type": "code",
   "execution_count": 83,
   "metadata": {},
   "outputs": [
    {
     "data": {
      "text/html": [
       "<div>\n",
       "<style>\n",
       "    .dataframe thead tr:only-child th {\n",
       "        text-align: right;\n",
       "    }\n",
       "\n",
       "    .dataframe thead th {\n",
       "        text-align: left;\n",
       "    }\n",
       "\n",
       "    .dataframe tbody tr th {\n",
       "        vertical-align: top;\n",
       "    }\n",
       "</style>\n",
       "<table border=\"1\" class=\"dataframe\">\n",
       "  <thead>\n",
       "    <tr style=\"text-align: right;\">\n",
       "      <th></th>\n",
       "      <th>ID</th>\n",
       "      <th>Navn</th>\n",
       "      <th>Navn14</th>\n",
       "      <th>Navn15</th>\n",
       "      <th>Navn16</th>\n",
       "      <th>Navn17</th>\n",
       "      <th>Navn18</th>\n",
       "    </tr>\n",
       "  </thead>\n",
       "  <tbody>\n",
       "    <tr>\n",
       "      <th>23</th>\n",
       "      <td>39</td>\n",
       "      <td>Rasteplass</td>\n",
       "      <td>Lekeapparat</td>\n",
       "      <td>Bygning</td>\n",
       "      <td>NaN</td>\n",
       "      <td>NaN</td>\n",
       "      <td>NaN</td>\n",
       "    </tr>\n",
       "    <tr>\n",
       "      <th>33</th>\n",
       "      <td>49</td>\n",
       "      <td>Trafikkøy</td>\n",
       "      <td>NaN</td>\n",
       "      <td>NaN</td>\n",
       "      <td>NaN</td>\n",
       "      <td>NaN</td>\n",
       "      <td>NaN</td>\n",
       "    </tr>\n",
       "    <tr>\n",
       "      <th>38</th>\n",
       "      <td>64</td>\n",
       "      <td>Ferjeleie</td>\n",
       "      <td>Dokumentasjon</td>\n",
       "      <td>Kommentar</td>\n",
       "      <td>NaN</td>\n",
       "      <td>NaN</td>\n",
       "      <td>NaN</td>\n",
       "    </tr>\n",
       "    <tr>\n",
       "      <th>41</th>\n",
       "      <td>67</td>\n",
       "      <td>Tunnelløp</td>\n",
       "      <td>Støtpute</td>\n",
       "      <td>Kum</td>\n",
       "      <td>Fordelingstavle</td>\n",
       "      <td>Taljer/Løfteutstyr</td>\n",
       "      <td>Utgår_Havarinisje</td>\n",
       "    </tr>\n",
       "    <tr>\n",
       "      <th>89</th>\n",
       "      <td>172</td>\n",
       "      <td>Trafikkdeler</td>\n",
       "      <td>Grøft, åpen</td>\n",
       "      <td>Grasdekker</td>\n",
       "      <td>NaN</td>\n",
       "      <td>NaN</td>\n",
       "      <td>NaN</td>\n",
       "    </tr>\n",
       "    <tr>\n",
       "      <th>134</th>\n",
       "      <td>447</td>\n",
       "      <td>Tunnelløp uten trafikk</td>\n",
       "      <td>Betongutstøping</td>\n",
       "      <td>Vann- og frostsikring</td>\n",
       "      <td>Dokumentasjon</td>\n",
       "      <td>NaN</td>\n",
       "      <td>NaN</td>\n",
       "    </tr>\n",
       "    <tr>\n",
       "      <th>165</th>\n",
       "      <td>487</td>\n",
       "      <td>Holdeplassutrustning</td>\n",
       "      <td>Trafikklomme</td>\n",
       "      <td>NaN</td>\n",
       "      <td>NaN</td>\n",
       "      <td>NaN</td>\n",
       "      <td>NaN</td>\n",
       "    </tr>\n",
       "  </tbody>\n",
       "</table>\n",
       "</div>"
      ],
      "text/plain": [
       "      ID                    Navn           Navn14                 Navn15  \\\n",
       "23    39              Rasteplass      Lekeapparat                Bygning   \n",
       "33    49               Trafikkøy              NaN                    NaN   \n",
       "38    64               Ferjeleie    Dokumentasjon              Kommentar   \n",
       "41    67               Tunnelløp         Støtpute                    Kum   \n",
       "89   172            Trafikkdeler      Grøft, åpen             Grasdekker   \n",
       "134  447  Tunnelløp uten trafikk  Betongutstøping  Vann- og frostsikring   \n",
       "165  487    Holdeplassutrustning     Trafikklomme                    NaN   \n",
       "\n",
       "              Navn16              Navn17             Navn18  \n",
       "23               NaN                 NaN                NaN  \n",
       "33               NaN                 NaN                NaN  \n",
       "38               NaN                 NaN                NaN  \n",
       "41   Fordelingstavle  Taljer/Løfteutstyr  Utgår_Havarinisje  \n",
       "89               NaN                 NaN                NaN  \n",
       "134    Dokumentasjon                 NaN                NaN  \n",
       "165              NaN                 NaN                NaN  "
      ]
     },
     "execution_count": 83,
     "metadata": {},
     "output_type": "execute_result"
    }
   ],
   "source": [
    "regneark[ ~regneark.Navn10.isnull()][['ID', 'Navn',  \n",
    "                                     'Navn14', 'Navn15', 'Navn16', 'Navn17', 'Navn18']]"
   ]
  },
  {
   "cell_type": "code",
   "execution_count": 65,
   "metadata": {},
   "outputs": [
    {
     "data": {
      "text/html": [
       "<div>\n",
       "<style>\n",
       "    .dataframe thead tr:only-child th {\n",
       "        text-align: right;\n",
       "    }\n",
       "\n",
       "    .dataframe thead th {\n",
       "        text-align: left;\n",
       "    }\n",
       "\n",
       "    .dataframe tbody tr th {\n",
       "        vertical-align: top;\n",
       "    }\n",
       "</style>\n",
       "<table border=\"1\" class=\"dataframe\">\n",
       "  <thead>\n",
       "    <tr style=\"text-align: right;\">\n",
       "      <th></th>\n",
       "      <th>ID</th>\n",
       "      <th>Navn</th>\n",
       "      <th>allebarn</th>\n",
       "      <th>Barn1</th>\n",
       "      <th>Navn1</th>\n",
       "      <th>Barn2</th>\n",
       "      <th>Navn2</th>\n",
       "      <th>Barn3</th>\n",
       "      <th>Navn3</th>\n",
       "      <th>Barn4</th>\n",
       "      <th>...</th>\n",
       "      <th>Barn69</th>\n",
       "      <th>Navn69</th>\n",
       "      <th>Barn70</th>\n",
       "      <th>Navn70</th>\n",
       "      <th>Barn71</th>\n",
       "      <th>Navn71</th>\n",
       "      <th>Barn72</th>\n",
       "      <th>Navn72</th>\n",
       "      <th>Barn73</th>\n",
       "      <th>Navn73</th>\n",
       "    </tr>\n",
       "  </thead>\n",
       "  <tbody>\n",
       "    <tr>\n",
       "      <th>64</th>\n",
       "      <td>96</td>\n",
       "      <td>Skiltplate</td>\n",
       "      <td>446,762,438,297</td>\n",
       "      <td>446.0</td>\n",
       "      <td>Dokumentasjon</td>\n",
       "      <td>762.0</td>\n",
       "      <td>Tilstand/skade FU, punkt</td>\n",
       "      <td>438.0</td>\n",
       "      <td>Tilstand/skade, skiltplate</td>\n",
       "      <td>297.0</td>\n",
       "      <td>...</td>\n",
       "      <td>NaN</td>\n",
       "      <td>NaN</td>\n",
       "      <td>NaN</td>\n",
       "      <td>NaN</td>\n",
       "      <td>NaN</td>\n",
       "      <td>NaN</td>\n",
       "      <td>NaN</td>\n",
       "      <td>NaN</td>\n",
       "      <td>NaN</td>\n",
       "      <td>NaN</td>\n",
       "    </tr>\n",
       "  </tbody>\n",
       "</table>\n",
       "<p>1 rows × 149 columns</p>\n",
       "</div>"
      ],
      "text/plain": [
       "    ID        Navn         allebarn  Barn1          Navn1  Barn2  \\\n",
       "64  96  Skiltplate  446,762,438,297  446.0  Dokumentasjon  762.0   \n",
       "\n",
       "                       Navn2  Barn3                       Navn3  Barn4  \\\n",
       "64  Tilstand/skade FU, punkt  438.0  Tilstand/skade, skiltplate  297.0   \n",
       "\n",
       "     ...   Barn69  Navn69 Barn70  Navn70 Barn71  Navn71 Barn72  Navn72 Barn73  \\\n",
       "64   ...      NaN     NaN    NaN     NaN    NaN     NaN    NaN     NaN    NaN   \n",
       "\n",
       "    Navn73  \n",
       "64     NaN  \n",
       "\n",
       "[1 rows x 149 columns]"
      ]
     },
     "execution_count": 65,
     "metadata": {},
     "output_type": "execute_result"
    }
   ],
   "source": [
    "regneark[ regneark.ID == 96 ]"
   ]
  }
 ],
 "metadata": {
  "kernelspec": {
   "display_name": "Python 3",
   "language": "python",
   "name": "python3"
  },
  "language_info": {
   "codemirror_mode": {
    "name": "ipython",
    "version": 3
   },
   "file_extension": ".py",
   "mimetype": "text/x-python",
   "name": "python",
   "nbconvert_exporter": "python",
   "pygments_lexer": "ipython3",
   "version": "3.6.1"
  }
 },
 "nbformat": 4,
 "nbformat_minor": 2
}
