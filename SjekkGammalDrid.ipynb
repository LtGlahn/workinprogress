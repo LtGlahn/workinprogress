{
 "cells": [
  {
   "cell_type": "code",
   "execution_count": 1,
   "metadata": {},
   "outputs": [
    {
     "name": "stdout",
     "output_type": "stream",
     "text": [
      "Legger NVDB api til søkestien\n"
     ]
    }
   ],
   "source": [
    "import STARTHER"
   ]
  },
  {
   "cell_type": "code",
   "execution_count": 2,
   "metadata": {},
   "outputs": [],
   "source": [
    "import nvdbapi \n",
    "import skrivnvdb\n",
    "import datetime"
   ]
  },
  {
   "cell_type": "code",
   "execution_count": 7,
   "metadata": {},
   "outputs": [],
   "source": [
    "with open('nvdbid487histveg.log') as f:\n",
    "    content = f.readlines()\n",
    "# you may also want to remove whitespace characters like `\\n` at the end of each line\n",
    "content = [x.strip() for x in content] \n",
    "\n"
   ]
  },
  {
   "cell_type": "code",
   "execution_count": 24,
   "metadata": {},
   "outputs": [],
   "source": [
    "sletteliste = []\n",
    "foreldreliste = []"
   ]
  },
  {
   "cell_type": "code",
   "execution_count": null,
   "metadata": {},
   "outputs": [
    {
     "name": "stdout",
     "output_type": "stream",
     "text": [
      "85776063 har foreldre {'foreldre': [{'type': {'id': 42, 'navn': 'Kollektivknutepunkt'}, 'vegobjekter': [873713359]}], 'barn': [{'type': {'id': 25, 'navn': 'Leskur'}, 'vegobjekter': [85409087, 593245118]}, {'type': {'id': 27, 'navn': 'Renovasjon'}, 'vegobjekter': [594385185]}, {'type': {'id': 47, 'navn': 'Trafikklomme'}, 'vegobjekter': [85758176]}, {'type': {'id': 767, 'navn': 'Utgår_Repos/venteareal'}, 'vegobjekter': [550820308]}]} foreldre\n",
      "607704674 har foreldre {'foreldre': [{'type': {'id': 42, 'navn': 'Kollektivknutepunkt'}, 'vegobjekter': [607704673]}], 'barn': [{'type': {'id': 25, 'navn': 'Leskur'}, 'vegobjekter': [610720068]}, {'type': {'id': 27, 'navn': 'Renovasjon'}, 'vegobjekter': [607704678]}, {'type': {'id': 28, 'navn': 'Utemøbler'}, 'vegobjekter': [607704679]}, {'type': {'id': 43, 'navn': 'Parkeringsområde'}, 'vegobjekter': [607704682]}, {'type': {'id': 446, 'navn': 'Dokumentasjon'}, 'vegobjekter': [610720060]}, {'type': {'id': 451, 'navn': 'Sykkelparkering'}, 'vegobjekter': [607704681]}, {'type': {'id': 766, 'navn': 'Oppslagstavle for rutetabell'}, 'vegobjekter': [607704680]}, {'type': {'id': 859, 'navn': 'Taktile indikatorer'}, 'vegobjekter': [607704677]}]} foreldre\n",
      "642570744 har foreldre {'foreldre': [{'type': {'id': 42, 'navn': 'Kollektivknutepunkt'}, 'vegobjekter': [642570743]}]} foreldre\n",
      "616274152 har foreldre {'foreldre': [{'type': {'id': 42, 'navn': 'Kollektivknutepunkt'}, 'vegobjekter': [616274150]}]} foreldre\n",
      "645499484 har foreldre {'foreldre': [{'type': {'id': 42, 'navn': 'Kollektivknutepunkt'}, 'vegobjekter': [645499479]}]} foreldre\n",
      "83710308 har foreldre {'foreldre': [{'type': {'id': 42, 'navn': 'Kollektivknutepunkt'}, 'vegobjekter': [578986810]}], 'barn': [{'type': {'id': 25, 'navn': 'Leskur'}, 'vegobjekter': [83719344]}, {'type': {'id': 47, 'navn': 'Trafikklomme'}, 'vegobjekter': [83719345]}]} foreldre\n",
      "85383256 har foreldre {'foreldre': [{'type': {'id': 42, 'navn': 'Kollektivknutepunkt'}, 'vegobjekter': [873713359]}], 'barn': [{'type': {'id': 25, 'navn': 'Leskur'}, 'vegobjekter': [85409342]}, {'type': {'id': 27, 'navn': 'Renovasjon'}, 'vegobjekter': [550820305]}, {'type': {'id': 43, 'navn': 'Parkeringsområde'}, 'vegobjekter': [894072051]}, {'type': {'id': 47, 'navn': 'Trafikklomme'}, 'vegobjekter': [85409343]}, {'type': {'id': 451, 'navn': 'Sykkelparkering'}, 'vegobjekter': [573639339]}, {'type': {'id': 767, 'navn': 'Utgår_Repos/venteareal'}, 'vegobjekter': [550820306]}, {'type': {'id': 859, 'navn': 'Taktile indikatorer'}, 'vegobjekter': [748314810]}]} foreldre\n",
      "641961223 har foreldre {'foreldre': [{'type': {'id': 42, 'navn': 'Kollektivknutepunkt'}, 'vegobjekter': [641961224]}]} foreldre\n",
      "838720985 har foreldre {'foreldre': [{'type': {'id': 42, 'navn': 'Kollektivknutepunkt'}, 'vegobjekter': [844782082]}], 'barn': [{'type': {'id': 47, 'navn': 'Trafikklomme'}, 'vegobjekter': [838720991]}]} foreldre\n",
      "607705267 har foreldre {'foreldre': [{'type': {'id': 42, 'navn': 'Kollektivknutepunkt'}, 'vegobjekter': [82432087]}], 'barn': [{'type': {'id': 25, 'navn': 'Leskur'}, 'vegobjekter': [607705258]}, {'type': {'id': 27, 'navn': 'Renovasjon'}, 'vegobjekter': [607705257]}, {'type': {'id': 28, 'navn': 'Utemøbler'}, 'vegobjekter': [607705256]}, {'type': {'id': 43, 'navn': 'Parkeringsområde'}, 'vegobjekter': [234093114, 234093115, 613284547]}, {'type': {'id': 446, 'navn': 'Dokumentasjon'}, 'vegobjekter': [607705269]}, {'type': {'id': 451, 'navn': 'Sykkelparkering'}, 'vegobjekter': [607705268]}, {'type': {'id': 766, 'navn': 'Oppslagstavle for rutetabell'}, 'vegobjekter': [607705266]}, {'type': {'id': 859, 'navn': 'Taktile indikatorer'}, 'vegobjekter': [573948182, 573948183, 573948184, 573948187, 573948192, 573948193, 573948196, 573948197]}, {'type': {'id': 885, 'navn': 'Sanntidsinformasjon, kollektivtrafikk'}, 'vegobjekter': [607705265]}]} foreldre\n",
      "578986815 har foreldre {'foreldre': [{'type': {'id': 42, 'navn': 'Kollektivknutepunkt'}, 'vegobjekter': [578986835]}], 'barn': [{'type': {'id': 25, 'navn': 'Leskur'}, 'vegobjekter': [578986800, 578986801]}, {'type': {'id': 43, 'navn': 'Parkeringsområde'}, 'vegobjekter': [578986799, 578986816]}, {'type': {'id': 47, 'navn': 'Trafikklomme'}, 'vegobjekter': [578986798]}]} foreldre\n",
      "85383254 har foreldre {'foreldre': [{'type': {'id': 42, 'navn': 'Kollektivknutepunkt'}, 'vegobjekter': [85409784]}], 'barn': [{'type': {'id': 25, 'navn': 'Leskur'}, 'vegobjekter': [593245122]}, {'type': {'id': 27, 'navn': 'Renovasjon'}, 'vegobjekter': [657408570]}, {'type': {'id': 47, 'navn': 'Trafikklomme'}, 'vegobjekter': [85409638, 657408571]}, {'type': {'id': 451, 'navn': 'Sykkelparkering'}, 'vegobjekter': [657408569]}]} foreldre\n",
      "616274151 har foreldre {'foreldre': [{'type': {'id': 42, 'navn': 'Kollektivknutepunkt'}, 'vegobjekter': [616274150]}]} foreldre\n",
      "616274153 har foreldre {'foreldre': [{'type': {'id': 42, 'navn': 'Kollektivknutepunkt'}, 'vegobjekter': [616274150]}]} foreldre\n",
      "645499483 har foreldre {'foreldre': [{'type': {'id': 42, 'navn': 'Kollektivknutepunkt'}, 'vegobjekter': [645499479]}]} foreldre\n",
      "603837132 har foreldre {'foreldre': [{'type': {'id': 42, 'navn': 'Kollektivknutepunkt'}, 'vegobjekter': [603170363]}], 'barn': [{'type': {'id': 47, 'navn': 'Trafikklomme'}, 'vegobjekter': [603837133]}]} foreldre\n"
     ]
    }
   ],
   "source": [
    "for minid in content: \n",
    "    minhlp = nvdbapi.finnid( minid, kunfagdata=True)\n",
    "    if not minhlp['vegsegmenter']: \n",
    "        sletteliste.append( minhlp)\n",
    "\n",
    "\n",
    "    if 'foreldre' in minhlp['relasjoner']: \n",
    "        print( minhlp['id'], 'har foreldre', minhlp['relasjoner'], 'foreldre')\n",
    "        foreldreliste.append( minhlp)"
   ]
  },
  {
   "cell_type": "code",
   "execution_count": 22,
   "metadata": {},
   "outputs": [],
   "source": [
    "minhlp['relasjoner']\n",
    "\n"
   ]
  }
 ],
 "metadata": {
  "kernelspec": {
   "display_name": "Python [conda root]",
   "language": "python",
   "name": "conda-root-py"
  },
  "language_info": {
   "codemirror_mode": {
    "name": "ipython",
    "version": 3
   },
   "file_extension": ".py",
   "mimetype": "text/x-python",
   "name": "python",
   "nbconvert_exporter": "python",
   "pygments_lexer": "ipython3",
   "version": "3.6.5"
  }
 },
 "nbformat": 4,
 "nbformat_minor": 2
}
