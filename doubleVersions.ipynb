{
 "cells": [
  {
   "cell_type": "code",
   "execution_count": 1,
   "id": "75913192",
   "metadata": {},
   "outputs": [
    {
     "name": "stdout",
     "output_type": "stream",
     "text": [
      "Hurra, vi klarer importere nvdbapiv3\n"
     ]
    }
   ],
   "source": [
    "import re\n",
    "from copy import deepcopy\n",
    "import json\n",
    "\n",
    "import pandas as pd\n",
    "import geopandas as gpd\n",
    "from deepdiff import DeepDiff\n",
    "\n",
    "import STARTHER\n",
    "import nvdbapiv3\n",
    "import nvdbgeotricks\n",
    "import mangelrapport\n",
    "import andremangler \n",
    "import objektdifferanser\n"
   ]
  },
  {
   "cell_type": "code",
   "execution_count": 2,
   "id": "256dbaaa",
   "metadata": {},
   "outputs": [
    {
     "name": "stdout",
     "output_type": "stream",
     "text": [
      "\u001b[0m\u001b[01;32mLICENSE\u001b[0m*                      \u001b[01;32mdoubleversjonanalyse.xlsx\u001b[0m*\r\n",
      "\u001b[01;32mREADME.md\u001b[0m*                    \u001b[01;32mendreBKsekkepost.py\u001b[0m*\r\n",
      "\u001b[01;32mSTARTHER.py\u001b[0m*                  \u001b[34;42mgamlemangler\u001b[0m/\r\n",
      "\u001b[34;42m__pycache__\u001b[0m/                  \u001b[01;32mmangelrapport-Bruksklasser2023-04-25.xlsx\u001b[0m*\r\n",
      "\u001b[01;32maarsrapport.py\u001b[0m*               \u001b[01;32mmangelrapport.py\u001b[0m*\r\n",
      "\u001b[01;32mandremangler.py\u001b[0m*              \u001b[01;32mnvdbapi-clientinfo.json\u001b[0m*\r\n",
      "\u001b[01;32mdoubleVersions.ipynb\u001b[0m*         \u001b[34;42mpics\u001b[0m/\r\n",
      "\u001b[01;32mdoubleVersionsDetaljer.xlsx\u001b[0m*  \u001b[01;32mskrivkommunalBK.py\u001b[0m*\r\n",
      "\u001b[01;32mdoubleVersions_20230417.LOG\u001b[0m*  \u001b[01;32mskrivsmaahull.py\u001b[0m*\r\n",
      "\u001b[01;32mdoubleVersions_20230424.LOG\u001b[0m*\r\n"
     ]
    }
   ],
   "source": [
    "ls"
   ]
  },
  {
   "cell_type": "code",
   "execution_count": 10,
   "id": "a7467d8f",
   "metadata": {},
   "outputs": [],
   "source": [
    "# mydf = pd.DataFrame( mangelrapport.lesLoggfil( 'doubleVersions_20220922.LOG' )  )\n",
    "mydf = pd.DataFrame( mangelrapport.lesLoggfil( 'doubleVersions_20230525.LOG' )  )\n"
   ]
  },
  {
   "cell_type": "code",
   "execution_count": 11,
   "id": "385df6e2",
   "metadata": {},
   "outputs": [
    {
     "data": {
      "text/plain": [
       "87    32\n",
       "Name: FeatureTypeId, dtype: int64"
      ]
     },
     "execution_count": 11,
     "metadata": {},
     "output_type": "execute_result"
    }
   ],
   "source": [
    "mydf['FeatureTypeId'].value_counts()"
   ]
  },
  {
   "cell_type": "markdown",
   "id": "5714737d",
   "metadata": {},
   "source": [
    "### Fjerner spor (524) - og jevnhetsmåling (525)"
   ]
  },
  {
   "cell_type": "code",
   "execution_count": 12,
   "id": "8ece233a",
   "metadata": {
    "scrolled": true
   },
   "outputs": [],
   "source": [
    "mydf = mydf[ ~mydf['FeatureTypeId'].isin( [524, 525])]"
   ]
  },
  {
   "cell_type": "markdown",
   "id": "cb79328e",
   "metadata": {},
   "source": [
    "## Fjerner et par som er fiksa"
   ]
  },
  {
   "cell_type": "code",
   "execution_count": 23,
   "id": "97183e40",
   "metadata": {},
   "outputs": [],
   "source": [
    "mydf = mydf[ ~mydf['FeatureId'].isin( [ 421037291, 915906260])]"
   ]
  },
  {
   "cell_type": "code",
   "execution_count": 24,
   "id": "0c35f909",
   "metadata": {},
   "outputs": [
    {
     "data": {
      "text/plain": [
       "14"
      ]
     },
     "execution_count": 24,
     "metadata": {},
     "output_type": "execute_result"
    }
   ],
   "source": [
    "len ( mydf['FeatureId'].unique() ) "
   ]
  },
  {
   "cell_type": "code",
   "execution_count": 17,
   "id": "1684f01e",
   "metadata": {},
   "outputs": [
    {
     "data": {
      "text/html": [
       "<div>\n",
       "<style scoped>\n",
       "    .dataframe tbody tr th:only-of-type {\n",
       "        vertical-align: middle;\n",
       "    }\n",
       "\n",
       "    .dataframe tbody tr th {\n",
       "        vertical-align: top;\n",
       "    }\n",
       "\n",
       "    .dataframe thead th {\n",
       "        text-align: right;\n",
       "    }\n",
       "</style>\n",
       "<table border=\"1\" class=\"dataframe\">\n",
       "  <thead>\n",
       "    <tr style=\"text-align: right;\">\n",
       "      <th></th>\n",
       "      <th>FeatureTypeId</th>\n",
       "      <th>FeatureId</th>\n",
       "      <th>VersionId</th>\n",
       "      <th>NetElemId</th>\n",
       "      <th>NStartPos</th>\n",
       "      <th>NEndPos</th>\n",
       "      <th>sdate</th>\n",
       "      <th>edate</th>\n",
       "      <th>vref</th>\n",
       "      <th>roadSysRef</th>\n",
       "      <th>municipality</th>\n",
       "      <th>sqldump_miljo</th>\n",
       "      <th>sqldump_dato</th>\n",
       "      <th>sqldump_klokke</th>\n",
       "      <th>sqldump_beskrivelse</th>\n",
       "      <th>sqldump_datarad</th>\n",
       "      <th>sqldump_datauttak</th>\n",
       "      <th>sqldump_parametre</th>\n",
       "      <th>filnavn</th>\n",
       "    </tr>\n",
       "  </thead>\n",
       "  <tbody>\n",
       "    <tr>\n",
       "      <th>0</th>\n",
       "      <td>87</td>\n",
       "      <td>421037291</td>\n",
       "      <td>1</td>\n",
       "      <td>1672722</td>\n",
       "      <td>0.51909895</td>\n",
       "      <td>None</td>\n",
       "      <td>2013.06.26</td>\n",
       "      <td>None</td>\n",
       "      <td>7 _ EV18 HP89 14176  (dir=1)</td>\n",
       "      <td>EV18 S33D1 m408 KD1 m176</td>\n",
       "      <td>3805</td>\n",
       "      <td>PRODUKSJON</td>\n",
       "      <td>2023-05-25</td>\n",
       "      <td>14:38</td>\n",
       "      <td>Lister ut alle objekter med mer enn en gyldig ...</td>\n",
       "      <td>0</td>\n",
       "      <td>Kjørt:  25.05.2023 - 03:32 - 03:35</td>\n",
       "      <td>Parametere:</td>\n",
       "      <td>doubleVersions_20230525.LOG</td>\n",
       "    </tr>\n",
       "    <tr>\n",
       "      <th>1</th>\n",
       "      <td>87</td>\n",
       "      <td>421037291</td>\n",
       "      <td>2</td>\n",
       "      <td>1672722</td>\n",
       "      <td>0.51909895</td>\n",
       "      <td>None</td>\n",
       "      <td>2013.08.08</td>\n",
       "      <td>None</td>\n",
       "      <td>7 _ EV18 HP89 14176  (dir=1)</td>\n",
       "      <td>EV18 S33D1 m408 KD1 m176</td>\n",
       "      <td>3805</td>\n",
       "      <td>PRODUKSJON</td>\n",
       "      <td>2023-05-25</td>\n",
       "      <td>14:38</td>\n",
       "      <td>Lister ut alle objekter med mer enn en gyldig ...</td>\n",
       "      <td>1</td>\n",
       "      <td>Kjørt:  25.05.2023 - 03:32 - 03:35</td>\n",
       "      <td>Parametere:</td>\n",
       "      <td>doubleVersions_20230525.LOG</td>\n",
       "    </tr>\n",
       "  </tbody>\n",
       "</table>\n",
       "</div>"
      ],
      "text/plain": [
       "   FeatureTypeId  FeatureId  VersionId  NetElemId   NStartPos NEndPos  \\\n",
       "0             87  421037291          1    1672722  0.51909895    None   \n",
       "1             87  421037291          2    1672722  0.51909895    None   \n",
       "\n",
       "        sdate edate                          vref                roadSysRef  \\\n",
       "0  2013.06.26  None  7 _ EV18 HP89 14176  (dir=1)  EV18 S33D1 m408 KD1 m176   \n",
       "1  2013.08.08  None  7 _ EV18 HP89 14176  (dir=1)  EV18 S33D1 m408 KD1 m176   \n",
       "\n",
       "   municipality sqldump_miljo sqldump_dato sqldump_klokke  \\\n",
       "0          3805    PRODUKSJON   2023-05-25          14:38   \n",
       "1          3805    PRODUKSJON   2023-05-25          14:38   \n",
       "\n",
       "                                 sqldump_beskrivelse  sqldump_datarad  \\\n",
       "0  Lister ut alle objekter med mer enn en gyldig ...                0   \n",
       "1  Lister ut alle objekter med mer enn en gyldig ...                1   \n",
       "\n",
       "                    sqldump_datauttak sqldump_parametre  \\\n",
       "0  Kjørt:  25.05.2023 - 03:32 - 03:35       Parametere:   \n",
       "1  Kjørt:  25.05.2023 - 03:32 - 03:35       Parametere:   \n",
       "\n",
       "                       filnavn  \n",
       "0  doubleVersions_20230525.LOG  \n",
       "1  doubleVersions_20230525.LOG  "
      ]
     },
     "execution_count": 17,
     "metadata": {},
     "output_type": "execute_result"
    }
   ],
   "source": [
    "temp"
   ]
  },
  {
   "cell_type": "code",
   "execution_count": 22,
   "id": "e650a22a",
   "metadata": {},
   "outputs": [
    {
     "data": {
      "text/plain": [
       "'410 Gone : Feature 915906260, version 2 of type 87 gone!'"
      ]
     },
     "execution_count": 22,
     "metadata": {},
     "output_type": "execute_result"
    }
   ],
   "source": [
    "minFeil"
   ]
  },
  {
   "cell_type": "code",
   "execution_count": 25,
   "id": "32ce318e",
   "metadata": {},
   "outputs": [
    {
     "name": "stdout",
     "output_type": "stream",
     "text": [
      "jajens's Password: ········\n",
      "Henter 421037267 \n",
      "HURRA, 421037267 versjon 1 kan lukkes med start- og sluttdato 2013-06-26 - 2013-08-08 \n",
      "Nyeste versjon 421037267 versjon 2 med startdato                      2013-08-08 \n",
      "Henter 421037270 \n",
      "HURRA, 421037270 versjon 1 kan lukkes med start- og sluttdato 2013-06-26 - 2013-08-08 \n",
      "Nyeste versjon 421037270 versjon 2 med startdato                      2013-08-08 \n",
      "Henter 421037296 \n",
      "HURRA, 421037296 versjon 1 kan lukkes med start- og sluttdato 2013-06-26 - 2013-08-08 \n",
      "Nyeste versjon 421037296 versjon 2 med startdato                      2013-08-08 \n",
      "Henter 421037269 \n",
      "HURRA, 421037269 versjon 1 kan lukkes med start- og sluttdato 2013-06-26 - 2013-08-08 \n",
      "Nyeste versjon 421037269 versjon 2 med startdato                      2013-08-08 \n",
      "Henter 421037290 \n",
      "HURRA, 421037290 versjon 1 kan lukkes med start- og sluttdato 2013-06-26 - 2013-08-08 \n",
      "Nyeste versjon 421037290 versjon 2 med startdato                      2013-08-08 \n",
      "Henter 421037295 \n",
      "HURRA, 421037295 versjon 1 kan lukkes med start- og sluttdato 2013-06-26 - 2013-08-08 \n",
      "Nyeste versjon 421037295 versjon 2 med startdato                      2013-08-08 \n",
      "Henter 421037271 \n",
      "HURRA, 421037271 versjon 1 kan lukkes med start- og sluttdato 2013-06-26 - 2013-08-08 \n",
      "Nyeste versjon 421037271 versjon 2 med startdato                      2013-08-08 \n",
      "Henter 421037272 \n",
      "HURRA, 421037272 versjon 1 kan lukkes med start- og sluttdato 2013-06-26 - 2013-08-08 \n",
      "Nyeste versjon 421037272 versjon 2 med startdato                      2013-08-08 \n",
      "Henter 915906266 \n",
      "Henter 421037266 \n",
      "HURRA, 421037266 versjon 1 kan lukkes med start- og sluttdato 2013-06-26 - 2013-08-08 \n",
      "Nyeste versjon 421037266 versjon 2 med startdato                      2013-08-08 \n",
      "Henter 421037293 \n",
      "HURRA, 421037293 versjon 1 kan lukkes med start- og sluttdato 2013-06-26 - 2013-08-08 \n",
      "Nyeste versjon 421037293 versjon 2 med startdato                      2013-08-08 \n",
      "Henter 421037264 \n",
      "HURRA, 421037264 versjon 1 kan lukkes med start- og sluttdato 2013-06-26 - 2013-08-08 \n",
      "Nyeste versjon 421037264 versjon 2 med startdato                      2013-08-08 \n",
      "Henter 421037288 \n",
      "HURRA, 421037288 versjon 1 kan lukkes med start- og sluttdato 2013-06-26 - 2013-08-08 \n",
      "Nyeste versjon 421037288 versjon 2 med startdato                      2013-08-08 \n",
      "Henter 421037294 \n",
      "HURRA, 421037294 versjon 1 kan lukkes med start- og sluttdato 2013-06-26 - 2013-08-08 \n",
      "Nyeste versjon 421037294 versjon 2 med startdato                      2013-08-08 \n"
     ]
    }
   ],
   "source": [
    "utenDuplikat = mydf.drop_duplicates( subset=['FeatureId', 'VersionId'] ).copy()\n",
    "utenDuplikat.sort_values( by=[ 'FeatureId', 'VersionId'], ascending=True, inplace=True )\n",
    "\n",
    "data = []\n",
    "url = 'https://nvdbapiles-v3.atlas.vegvesen.no/vegobjekter/' \n",
    "forb = nvdbapiv3.apiforbindelse()\n",
    "forb.login( miljo='prodles')\n",
    "\n",
    "params = { 'inkluder' : 'alle' }\n",
    "\n",
    "mineID = mydf['FeatureId'].unique()\n",
    "for minId in mineID: \n",
    "    print( f\"Henter {minId} \")\n",
    "    feilmeldinger = set()\n",
    "    temp = utenDuplikat[ utenDuplikat['FeatureId'] == minId ]\n",
    "    if len( temp ) != 2: \n",
    "        print( f\"Fant {len(temp)} rader med FeatureID {minId} \")\n",
    "    objekttype = temp.iloc[0]['FeatureTypeId']\n",
    "    eldste_versjon = temp.iloc[0]['VersionId']\n",
    "    eldste_start = andremangler.konverterdato( temp.iloc[0]['sdate'] )\n",
    "    eldste_slutt = andremangler.konverterdato( temp.iloc[0]['edate'] ) \n",
    "    r = forb.les( url + str( objekttype ) + '/' + str(minId) + '/' + str(eldste_versjon), params=params  )\n",
    "    if r.ok: \n",
    "        eldste = r.json()\n",
    "    else: \n",
    "        feilmeldinger.add( objektdifferanser.dekodLesFeilmelding( r ) ) \n",
    "        \n",
    "\n",
    "    nyeste_versjon = temp.iloc[1]['VersionId']\n",
    "    nyeste_start = andremangler.konverterdato( temp.iloc[1]['sdate'] )\n",
    "    nyeste_slutt = andremangler.konverterdato( temp.iloc[1]['edate'] ) \n",
    "    \n",
    "    r = forb.les( url + str( objekttype ) + '/' + str(minId) + '/' + str(nyeste_versjon), params=params  )\n",
    "    if r.ok: \n",
    "        nyeste = r.json()\n",
    "    else: \n",
    "        feilmeldinger.add( objektdifferanser.dekodLesFeilmelding( r ) ) \n",
    "\n",
    "    # Henter objektet som kommer etter eldste i rekken\n",
    "    eldste_pluss1_versjon = eldste_versjon + 1 \n",
    "    r = forb.les( url + str( objekttype ) + '/' + str(minId) + '/' + str(eldste_pluss1_versjon), params=params  )\n",
    "    if r.ok: \n",
    "        eldste_pluss1 = r.json()\n",
    "        eldste_ny_sluttdato = eldste_pluss1['metadata']['startdato']\n",
    "    else:     \n",
    "        minFeil = objektdifferanser.dekodLesFeilmelding( r )\n",
    "        if 'not found' in minFeil.lower(): \n",
    "            tidsvurdering = f\"Ingen versjon {eldste_pluss1_versjon} av objektet\"\n",
    "        else: \n",
    "            feilmeldinger.add( minFeil )\n",
    "        print( minFeil )\n",
    "\n",
    "    kanLukkesEnkelt = False \n",
    "    # Sjekker at ny sluttdato ikke blir samme dag som startdato, eller at startdato > sluttdato\n",
    "    if eldste_ny_sluttdato == eldste_start: \n",
    "        tidsvurdering = f\"Kan ikke ha samme start- og sluttdato {eldste_start} : {minId} versjon {eldste_versjon} vs versjon {eldste_pluss1_versjon}  \" \n",
    "    elif sorted( [ eldste_start, eldste_ny_sluttdato  ] )[-1] != eldste_ny_sluttdato: \n",
    "        tidsvurdering =  f\"Objekt {minId} Startdato {eldste_ny_sluttdato} for v{eldste_pluss1_versjon}  er før startdato {eldste_start} v{eldste_versjon} \" \n",
    "    else: \n",
    "        tidsvurdering =  f\"HURRA, {minId} versjon {eldste_versjon} kan lukkes med start- og sluttdato {eldste_start} - {eldste_ny_sluttdato} \"\n",
    "        kanLukkesEnkelt = True \n",
    "        print( tidsvurdering )\n",
    "        print( f\"Nyeste versjon {minId} versjon {nyeste_versjon} med startdato                      {nyeste_start} \" )\n",
    " \n",
    "\n",
    "    # Konstruerer de dataene som skal logges: \n",
    "    sammendrag = { 'objekttype' : objekttype,\n",
    "                  'nvdbId' : minId,\n",
    "                  'eldsteVersjon' : eldste_versjon, \n",
    "                  'eldsteStartdato' : eldste_start,\n",
    "                  'eldsteSluttdato' : eldste_slutt, \n",
    "                  'eldsteKanLukkesEnkelt' : kanLukkesEnkelt,\n",
    "                  'feilmeldinger' : ','.join( list( feilmeldinger )),\n",
    "                  'tidsvurdering' : tidsvurdering,\n",
    "                  'eldsteNySluttdato' : eldste_ny_sluttdato,\n",
    "                  'nyesteVersjon'  : nyeste_versjon,\n",
    "                  'nyesteStartdato' : nyeste_start,\n",
    "                  'nyesteSluttdato' : nyeste_slutt,\n",
    "                 }\n",
    "\n",
    "    # Sjekker om vi har fått gyldige data\n",
    "    if len( feilmeldinger ) == 0: \n",
    "        \n",
    "        # Sjekker egenskapsverdier\n",
    "        analyse = objektdifferanser.sammenlignEgenskaper( [eldste, nyeste] )\n",
    "        sammendrag['UlikeEgenskaper']      =  ','.join( list( analyse['avviker'].keys() ))\n",
    "        sammendrag['identiskeEgenskaper']  = ','.join( list( analyse['identiske'].keys() )) \n",
    "        sammendrag['egenskapAnalyse']      = analyse\n",
    "\n",
    "    else: \n",
    "        print( f\"Feilmelding {objekttype} - {minId} : { ','.join( list( feilmeldinger )) } \")\n",
    "\n",
    "    data.append( sammendrag  )\n"
   ]
  },
  {
   "cell_type": "code",
   "execution_count": 8,
   "id": "eeb32883",
   "metadata": {},
   "outputs": [],
   "source": [
    "# r = forb.les( '/vegobjekt', params={'id' : 325568040})"
   ]
  },
  {
   "cell_type": "code",
   "execution_count": 9,
   "id": "e91f8b65",
   "metadata": {},
   "outputs": [],
   "source": [
    "# obj = r.json()"
   ]
  },
  {
   "cell_type": "code",
   "execution_count": 11,
   "id": "ca8d044a",
   "metadata": {},
   "outputs": [],
   "source": [
    "# obj['metadata']"
   ]
  },
  {
   "cell_type": "code",
   "execution_count": 10,
   "id": "df6ed77a",
   "metadata": {},
   "outputs": [],
   "source": [
    "# r.json()"
   ]
  },
  {
   "cell_type": "code",
   "execution_count": 26,
   "id": "2269e5f4",
   "metadata": {},
   "outputs": [
    {
     "data": {
      "text/plain": [
       "Index(['objekttype', 'nvdbId', 'eldsteVersjon', 'eldsteStartdato',\n",
       "       'eldsteSluttdato', 'eldsteKanLukkesEnkelt', 'feilmeldinger',\n",
       "       'tidsvurdering', 'eldsteNySluttdato', 'nyesteVersjon',\n",
       "       'nyesteStartdato', 'nyesteSluttdato', 'UlikeEgenskaper',\n",
       "       'identiskeEgenskaper', 'egenskapAnalyse'],\n",
       "      dtype='object')"
      ]
     },
     "execution_count": 26,
     "metadata": {},
     "output_type": "execute_result"
    }
   ],
   "source": [
    "vurdering = pd.DataFrame( data)\n",
    "vurdering.columns"
   ]
  },
  {
   "cell_type": "code",
   "execution_count": 27,
   "id": "045151a1",
   "metadata": {},
   "outputs": [
    {
     "data": {
      "text/plain": [
       "objekttype                int64\n",
       "nvdbId                    int64\n",
       "eldsteVersjon             int64\n",
       "eldsteStartdato          object\n",
       "eldsteSluttdato          object\n",
       "eldsteKanLukkesEnkelt      bool\n",
       "feilmeldinger            object\n",
       "tidsvurdering            object\n",
       "eldsteNySluttdato        object\n",
       "nyesteVersjon             int64\n",
       "nyesteStartdato          object\n",
       "nyesteSluttdato          object\n",
       "UlikeEgenskaper          object\n",
       "identiskeEgenskaper      object\n",
       "egenskapAnalyse          object\n",
       "dtype: object"
      ]
     },
     "execution_count": 27,
     "metadata": {},
     "output_type": "execute_result"
    }
   ],
   "source": [
    "vurdering.dtypes"
   ]
  },
  {
   "cell_type": "code",
   "execution_count": 14,
   "id": "6583377f",
   "metadata": {},
   "outputs": [
    {
     "data": {
      "text/plain": [
       "87    19\n",
       "Name: objekttype, dtype: int64"
      ]
     },
     "execution_count": 14,
     "metadata": {},
     "output_type": "execute_result"
    }
   ],
   "source": [
    "vurdering['objekttype'].value_counts()"
   ]
  },
  {
   "cell_type": "code",
   "execution_count": 28,
   "id": "78be3aae",
   "metadata": {},
   "outputs": [
    {
     "data": {
      "text/html": [
       "<div>\n",
       "<style scoped>\n",
       "    .dataframe tbody tr th:only-of-type {\n",
       "        vertical-align: middle;\n",
       "    }\n",
       "\n",
       "    .dataframe tbody tr th {\n",
       "        vertical-align: top;\n",
       "    }\n",
       "\n",
       "    .dataframe thead th {\n",
       "        text-align: right;\n",
       "    }\n",
       "</style>\n",
       "<table border=\"1\" class=\"dataframe\">\n",
       "  <thead>\n",
       "    <tr style=\"text-align: right;\">\n",
       "      <th></th>\n",
       "      <th>objekttype</th>\n",
       "      <th>nvdbId</th>\n",
       "      <th>eldsteVersjon</th>\n",
       "      <th>eldsteStartdato</th>\n",
       "      <th>eldsteSluttdato</th>\n",
       "      <th>eldsteKanLukkesEnkelt</th>\n",
       "      <th>feilmeldinger</th>\n",
       "      <th>tidsvurdering</th>\n",
       "      <th>eldsteNySluttdato</th>\n",
       "      <th>nyesteVersjon</th>\n",
       "      <th>nyesteStartdato</th>\n",
       "      <th>nyesteSluttdato</th>\n",
       "      <th>UlikeEgenskaper</th>\n",
       "      <th>identiskeEgenskaper</th>\n",
       "      <th>egenskapAnalyse</th>\n",
       "    </tr>\n",
       "  </thead>\n",
       "  <tbody>\n",
       "    <tr>\n",
       "      <th>0</th>\n",
       "      <td>87</td>\n",
       "      <td>421037267</td>\n",
       "      <td>1</td>\n",
       "      <td>2013-06-26</td>\n",
       "      <td>None</td>\n",
       "      <td>True</td>\n",
       "      <td></td>\n",
       "      <td>HURRA, 421037267 versjon 1 kan lukkes med star...</td>\n",
       "      <td>2013-08-08</td>\n",
       "      <td>2</td>\n",
       "      <td>2013-08-08</td>\n",
       "      <td>None</td>\n",
       "      <td>PunktTilknytning,Assosierte Lysmast,Assosierte...</td>\n",
       "      <td>Geometri, punkt,Plassering</td>\n",
       "      <td>{'identiske': {'Geometri, punkt': {'id': 4787,...</td>\n",
       "    </tr>\n",
       "    <tr>\n",
       "      <th>1</th>\n",
       "      <td>87</td>\n",
       "      <td>421037270</td>\n",
       "      <td>1</td>\n",
       "      <td>2013-06-26</td>\n",
       "      <td>None</td>\n",
       "      <td>True</td>\n",
       "      <td></td>\n",
       "      <td>HURRA, 421037270 versjon 1 kan lukkes med star...</td>\n",
       "      <td>2013-08-08</td>\n",
       "      <td>2</td>\n",
       "      <td>2013-08-08</td>\n",
       "      <td>None</td>\n",
       "      <td>Assosierte Lysmast,Assosierte Lysarmatur</td>\n",
       "      <td>PunktTilknytning,Geometri, punkt,Plassering</td>\n",
       "      <td>{'identiske': {'PunktTilknytning': {'id': 1000...</td>\n",
       "    </tr>\n",
       "    <tr>\n",
       "      <th>2</th>\n",
       "      <td>87</td>\n",
       "      <td>421037296</td>\n",
       "      <td>1</td>\n",
       "      <td>2013-06-26</td>\n",
       "      <td>None</td>\n",
       "      <td>True</td>\n",
       "      <td></td>\n",
       "      <td>HURRA, 421037296 versjon 1 kan lukkes med star...</td>\n",
       "      <td>2013-08-08</td>\n",
       "      <td>2</td>\n",
       "      <td>2013-08-08</td>\n",
       "      <td>None</td>\n",
       "      <td>Assosierte Lysmast,Assosierte Lysarmatur</td>\n",
       "      <td>PunktTilknytning,Geometri, punkt,Plassering</td>\n",
       "      <td>{'identiske': {'PunktTilknytning': {'id': 1000...</td>\n",
       "    </tr>\n",
       "    <tr>\n",
       "      <th>3</th>\n",
       "      <td>87</td>\n",
       "      <td>421037269</td>\n",
       "      <td>1</td>\n",
       "      <td>2013-06-26</td>\n",
       "      <td>None</td>\n",
       "      <td>True</td>\n",
       "      <td></td>\n",
       "      <td>HURRA, 421037269 versjon 1 kan lukkes med star...</td>\n",
       "      <td>2013-08-08</td>\n",
       "      <td>2</td>\n",
       "      <td>2013-08-08</td>\n",
       "      <td>None</td>\n",
       "      <td>Assosierte Lysmast,Assosierte Lysarmatur</td>\n",
       "      <td>PunktTilknytning,Geometri, punkt,Plassering</td>\n",
       "      <td>{'identiske': {'PunktTilknytning': {'id': 1000...</td>\n",
       "    </tr>\n",
       "    <tr>\n",
       "      <th>4</th>\n",
       "      <td>87</td>\n",
       "      <td>421037290</td>\n",
       "      <td>1</td>\n",
       "      <td>2013-06-26</td>\n",
       "      <td>None</td>\n",
       "      <td>True</td>\n",
       "      <td></td>\n",
       "      <td>HURRA, 421037290 versjon 1 kan lukkes med star...</td>\n",
       "      <td>2013-08-08</td>\n",
       "      <td>2</td>\n",
       "      <td>2013-08-08</td>\n",
       "      <td>None</td>\n",
       "      <td>Assosierte Lysmast,Assosierte Lysarmatur</td>\n",
       "      <td>PunktTilknytning,Geometri, punkt,Plassering</td>\n",
       "      <td>{'identiske': {'PunktTilknytning': {'id': 1000...</td>\n",
       "    </tr>\n",
       "    <tr>\n",
       "      <th>5</th>\n",
       "      <td>87</td>\n",
       "      <td>421037295</td>\n",
       "      <td>1</td>\n",
       "      <td>2013-06-26</td>\n",
       "      <td>None</td>\n",
       "      <td>True</td>\n",
       "      <td></td>\n",
       "      <td>HURRA, 421037295 versjon 1 kan lukkes med star...</td>\n",
       "      <td>2013-08-08</td>\n",
       "      <td>2</td>\n",
       "      <td>2013-08-08</td>\n",
       "      <td>None</td>\n",
       "      <td>Assosierte Lysmast,Assosierte Lysarmatur</td>\n",
       "      <td>PunktTilknytning,Geometri, punkt,Plassering</td>\n",
       "      <td>{'identiske': {'PunktTilknytning': {'id': 1000...</td>\n",
       "    </tr>\n",
       "    <tr>\n",
       "      <th>6</th>\n",
       "      <td>87</td>\n",
       "      <td>421037271</td>\n",
       "      <td>1</td>\n",
       "      <td>2013-06-26</td>\n",
       "      <td>None</td>\n",
       "      <td>True</td>\n",
       "      <td></td>\n",
       "      <td>HURRA, 421037271 versjon 1 kan lukkes med star...</td>\n",
       "      <td>2013-08-08</td>\n",
       "      <td>2</td>\n",
       "      <td>2013-08-08</td>\n",
       "      <td>None</td>\n",
       "      <td>Assosierte Lysmast,Assosierte Lysarmatur</td>\n",
       "      <td>PunktTilknytning,Geometri, punkt,Plassering</td>\n",
       "      <td>{'identiske': {'PunktTilknytning': {'id': 1000...</td>\n",
       "    </tr>\n",
       "    <tr>\n",
       "      <th>7</th>\n",
       "      <td>87</td>\n",
       "      <td>421037272</td>\n",
       "      <td>1</td>\n",
       "      <td>2013-06-26</td>\n",
       "      <td>None</td>\n",
       "      <td>True</td>\n",
       "      <td></td>\n",
       "      <td>HURRA, 421037272 versjon 1 kan lukkes med star...</td>\n",
       "      <td>2013-08-08</td>\n",
       "      <td>2</td>\n",
       "      <td>2013-08-08</td>\n",
       "      <td>None</td>\n",
       "      <td>Assosierte Lysmast,Assosierte Lysarmatur</td>\n",
       "      <td>PunktTilknytning,Geometri, punkt,Plassering</td>\n",
       "      <td>{'identiske': {'PunktTilknytning': {'id': 1000...</td>\n",
       "    </tr>\n",
       "    <tr>\n",
       "      <th>9</th>\n",
       "      <td>87</td>\n",
       "      <td>421037266</td>\n",
       "      <td>1</td>\n",
       "      <td>2013-06-26</td>\n",
       "      <td>None</td>\n",
       "      <td>True</td>\n",
       "      <td></td>\n",
       "      <td>HURRA, 421037266 versjon 1 kan lukkes med star...</td>\n",
       "      <td>2013-08-08</td>\n",
       "      <td>2</td>\n",
       "      <td>2013-08-08</td>\n",
       "      <td>None</td>\n",
       "      <td>Assosierte Lysmast,Assosierte Lysarmatur</td>\n",
       "      <td>PunktTilknytning,Geometri, punkt,Plassering</td>\n",
       "      <td>{'identiske': {'PunktTilknytning': {'id': 1000...</td>\n",
       "    </tr>\n",
       "    <tr>\n",
       "      <th>10</th>\n",
       "      <td>87</td>\n",
       "      <td>421037293</td>\n",
       "      <td>1</td>\n",
       "      <td>2013-06-26</td>\n",
       "      <td>None</td>\n",
       "      <td>True</td>\n",
       "      <td></td>\n",
       "      <td>HURRA, 421037293 versjon 1 kan lukkes med star...</td>\n",
       "      <td>2013-08-08</td>\n",
       "      <td>2</td>\n",
       "      <td>2013-08-08</td>\n",
       "      <td>None</td>\n",
       "      <td>Assosierte Lysmast,Assosierte Lysarmatur</td>\n",
       "      <td>PunktTilknytning,Geometri, punkt,Plassering</td>\n",
       "      <td>{'identiske': {'PunktTilknytning': {'id': 1000...</td>\n",
       "    </tr>\n",
       "    <tr>\n",
       "      <th>11</th>\n",
       "      <td>87</td>\n",
       "      <td>421037264</td>\n",
       "      <td>1</td>\n",
       "      <td>2013-06-26</td>\n",
       "      <td>None</td>\n",
       "      <td>True</td>\n",
       "      <td></td>\n",
       "      <td>HURRA, 421037264 versjon 1 kan lukkes med star...</td>\n",
       "      <td>2013-08-08</td>\n",
       "      <td>2</td>\n",
       "      <td>2013-08-08</td>\n",
       "      <td>None</td>\n",
       "      <td>Assosierte Lysmast,Assosierte Lysarmatur</td>\n",
       "      <td>PunktTilknytning,Geometri, punkt,Plassering</td>\n",
       "      <td>{'identiske': {'PunktTilknytning': {'id': 1000...</td>\n",
       "    </tr>\n",
       "    <tr>\n",
       "      <th>12</th>\n",
       "      <td>87</td>\n",
       "      <td>421037288</td>\n",
       "      <td>1</td>\n",
       "      <td>2013-06-26</td>\n",
       "      <td>None</td>\n",
       "      <td>True</td>\n",
       "      <td></td>\n",
       "      <td>HURRA, 421037288 versjon 1 kan lukkes med star...</td>\n",
       "      <td>2013-08-08</td>\n",
       "      <td>2</td>\n",
       "      <td>2013-08-08</td>\n",
       "      <td>None</td>\n",
       "      <td>Assosierte Lysmast,Assosierte Lysarmatur</td>\n",
       "      <td>PunktTilknytning,Geometri, punkt,Plassering</td>\n",
       "      <td>{'identiske': {'PunktTilknytning': {'id': 1000...</td>\n",
       "    </tr>\n",
       "    <tr>\n",
       "      <th>13</th>\n",
       "      <td>87</td>\n",
       "      <td>421037294</td>\n",
       "      <td>1</td>\n",
       "      <td>2013-06-26</td>\n",
       "      <td>None</td>\n",
       "      <td>True</td>\n",
       "      <td></td>\n",
       "      <td>HURRA, 421037294 versjon 1 kan lukkes med star...</td>\n",
       "      <td>2013-08-08</td>\n",
       "      <td>2</td>\n",
       "      <td>2013-08-08</td>\n",
       "      <td>None</td>\n",
       "      <td>Assosierte Lysmast,Assosierte Lysarmatur</td>\n",
       "      <td>PunktTilknytning,Geometri, punkt,Plassering</td>\n",
       "      <td>{'identiske': {'PunktTilknytning': {'id': 1000...</td>\n",
       "    </tr>\n",
       "  </tbody>\n",
       "</table>\n",
       "</div>"
      ],
      "text/plain": [
       "    objekttype     nvdbId  eldsteVersjon eldsteStartdato eldsteSluttdato  \\\n",
       "0           87  421037267              1      2013-06-26            None   \n",
       "1           87  421037270              1      2013-06-26            None   \n",
       "2           87  421037296              1      2013-06-26            None   \n",
       "3           87  421037269              1      2013-06-26            None   \n",
       "4           87  421037290              1      2013-06-26            None   \n",
       "5           87  421037295              1      2013-06-26            None   \n",
       "6           87  421037271              1      2013-06-26            None   \n",
       "7           87  421037272              1      2013-06-26            None   \n",
       "9           87  421037266              1      2013-06-26            None   \n",
       "10          87  421037293              1      2013-06-26            None   \n",
       "11          87  421037264              1      2013-06-26            None   \n",
       "12          87  421037288              1      2013-06-26            None   \n",
       "13          87  421037294              1      2013-06-26            None   \n",
       "\n",
       "    eldsteKanLukkesEnkelt feilmeldinger  \\\n",
       "0                    True                 \n",
       "1                    True                 \n",
       "2                    True                 \n",
       "3                    True                 \n",
       "4                    True                 \n",
       "5                    True                 \n",
       "6                    True                 \n",
       "7                    True                 \n",
       "9                    True                 \n",
       "10                   True                 \n",
       "11                   True                 \n",
       "12                   True                 \n",
       "13                   True                 \n",
       "\n",
       "                                        tidsvurdering eldsteNySluttdato  \\\n",
       "0   HURRA, 421037267 versjon 1 kan lukkes med star...        2013-08-08   \n",
       "1   HURRA, 421037270 versjon 1 kan lukkes med star...        2013-08-08   \n",
       "2   HURRA, 421037296 versjon 1 kan lukkes med star...        2013-08-08   \n",
       "3   HURRA, 421037269 versjon 1 kan lukkes med star...        2013-08-08   \n",
       "4   HURRA, 421037290 versjon 1 kan lukkes med star...        2013-08-08   \n",
       "5   HURRA, 421037295 versjon 1 kan lukkes med star...        2013-08-08   \n",
       "6   HURRA, 421037271 versjon 1 kan lukkes med star...        2013-08-08   \n",
       "7   HURRA, 421037272 versjon 1 kan lukkes med star...        2013-08-08   \n",
       "9   HURRA, 421037266 versjon 1 kan lukkes med star...        2013-08-08   \n",
       "10  HURRA, 421037293 versjon 1 kan lukkes med star...        2013-08-08   \n",
       "11  HURRA, 421037264 versjon 1 kan lukkes med star...        2013-08-08   \n",
       "12  HURRA, 421037288 versjon 1 kan lukkes med star...        2013-08-08   \n",
       "13  HURRA, 421037294 versjon 1 kan lukkes med star...        2013-08-08   \n",
       "\n",
       "    nyesteVersjon nyesteStartdato nyesteSluttdato  \\\n",
       "0               2      2013-08-08            None   \n",
       "1               2      2013-08-08            None   \n",
       "2               2      2013-08-08            None   \n",
       "3               2      2013-08-08            None   \n",
       "4               2      2013-08-08            None   \n",
       "5               2      2013-08-08            None   \n",
       "6               2      2013-08-08            None   \n",
       "7               2      2013-08-08            None   \n",
       "9               2      2013-08-08            None   \n",
       "10              2      2013-08-08            None   \n",
       "11              2      2013-08-08            None   \n",
       "12              2      2013-08-08            None   \n",
       "13              2      2013-08-08            None   \n",
       "\n",
       "                                      UlikeEgenskaper  \\\n",
       "0   PunktTilknytning,Assosierte Lysmast,Assosierte...   \n",
       "1            Assosierte Lysmast,Assosierte Lysarmatur   \n",
       "2            Assosierte Lysmast,Assosierte Lysarmatur   \n",
       "3            Assosierte Lysmast,Assosierte Lysarmatur   \n",
       "4            Assosierte Lysmast,Assosierte Lysarmatur   \n",
       "5            Assosierte Lysmast,Assosierte Lysarmatur   \n",
       "6            Assosierte Lysmast,Assosierte Lysarmatur   \n",
       "7            Assosierte Lysmast,Assosierte Lysarmatur   \n",
       "9            Assosierte Lysmast,Assosierte Lysarmatur   \n",
       "10           Assosierte Lysmast,Assosierte Lysarmatur   \n",
       "11           Assosierte Lysmast,Assosierte Lysarmatur   \n",
       "12           Assosierte Lysmast,Assosierte Lysarmatur   \n",
       "13           Assosierte Lysmast,Assosierte Lysarmatur   \n",
       "\n",
       "                            identiskeEgenskaper  \\\n",
       "0                    Geometri, punkt,Plassering   \n",
       "1   PunktTilknytning,Geometri, punkt,Plassering   \n",
       "2   PunktTilknytning,Geometri, punkt,Plassering   \n",
       "3   PunktTilknytning,Geometri, punkt,Plassering   \n",
       "4   PunktTilknytning,Geometri, punkt,Plassering   \n",
       "5   PunktTilknytning,Geometri, punkt,Plassering   \n",
       "6   PunktTilknytning,Geometri, punkt,Plassering   \n",
       "7   PunktTilknytning,Geometri, punkt,Plassering   \n",
       "9   PunktTilknytning,Geometri, punkt,Plassering   \n",
       "10  PunktTilknytning,Geometri, punkt,Plassering   \n",
       "11  PunktTilknytning,Geometri, punkt,Plassering   \n",
       "12  PunktTilknytning,Geometri, punkt,Plassering   \n",
       "13  PunktTilknytning,Geometri, punkt,Plassering   \n",
       "\n",
       "                                      egenskapAnalyse  \n",
       "0   {'identiske': {'Geometri, punkt': {'id': 4787,...  \n",
       "1   {'identiske': {'PunktTilknytning': {'id': 1000...  \n",
       "2   {'identiske': {'PunktTilknytning': {'id': 1000...  \n",
       "3   {'identiske': {'PunktTilknytning': {'id': 1000...  \n",
       "4   {'identiske': {'PunktTilknytning': {'id': 1000...  \n",
       "5   {'identiske': {'PunktTilknytning': {'id': 1000...  \n",
       "6   {'identiske': {'PunktTilknytning': {'id': 1000...  \n",
       "7   {'identiske': {'PunktTilknytning': {'id': 1000...  \n",
       "9   {'identiske': {'PunktTilknytning': {'id': 1000...  \n",
       "10  {'identiske': {'PunktTilknytning': {'id': 1000...  \n",
       "11  {'identiske': {'PunktTilknytning': {'id': 1000...  \n",
       "12  {'identiske': {'PunktTilknytning': {'id': 1000...  \n",
       "13  {'identiske': {'PunktTilknytning': {'id': 1000...  "
      ]
     },
     "execution_count": 28,
     "metadata": {},
     "output_type": "execute_result"
    }
   ],
   "source": [
    "vurdering[ vurdering['eldsteKanLukkesEnkelt'] == True ]"
   ]
  },
  {
   "cell_type": "code",
   "execution_count": 29,
   "id": "127e26e5",
   "metadata": {},
   "outputs": [
    {
     "name": "stdout",
     "output_type": "stream",
     "text": [
      "skrev 1 faner til doubleversjonanalyse.xlsx \n"
     ]
    },
    {
     "name": "stderr",
     "output_type": "stream",
     "text": [
      "/mnt/c/data/leveranser/nvdbapi-V3/nvdbgeotricks.py:512: FutureWarning: save is not part of the public API, usage can give unexpected results and will be removed in a future version\n",
      "  writer.save( )\n"
     ]
    }
   ],
   "source": [
    "col = list( vurdering.columns )\n",
    "col = [ x for x in col if x != 'egenskapAnalyse' ]\n",
    "\n",
    "nvdbgeotricks.skrivexcel( 'doubleversjonanalyse.xlsx', vurdering[col])"
   ]
  },
  {
   "cell_type": "code",
   "execution_count": 17,
   "id": "1e06e01e",
   "metadata": {},
   "outputs": [
    {
     "data": {
      "text/plain": [
       "19"
      ]
     },
     "execution_count": 17,
     "metadata": {},
     "output_type": "execute_result"
    }
   ],
   "source": [
    "len( vurdering)"
   ]
  },
  {
   "cell_type": "markdown",
   "id": "09c86af0",
   "metadata": {},
   "source": [
    "# Detaljert rapport, avvik mellom objektversjoner"
   ]
  },
  {
   "cell_type": "code",
   "execution_count": 31,
   "id": "a431ecbd",
   "metadata": {},
   "outputs": [],
   "source": [
    "\n",
    "\n",
    "test = { x : []  for x in list( vurdering['objekttype'].unique()) }\n",
    "debug = []\n",
    "\n",
    "for ii, row in vurdering.iterrows(): \n",
    "    if isinstance( row['egenskapAnalyse'], dict ): \n",
    "        retval = objektdifferanser.egenskapsavvikDetaljert( row['egenskapAnalyse'], row['eldsteVersjon'] )\n",
    "#         if len( retval ) > 0: \n",
    "        junk = row.to_dict()\n",
    "        junk.update( retval )\n",
    "        test[row['objekttype']].append( junk )\n",
    "            \n",
    "#     else: \n",
    "#         debug.append( row.to_dict())\n",
    "                 \n",
    "for objType in test: \n",
    "    test[objType] = pd.DataFrame( test[objType])\n",
    "    "
   ]
  },
  {
   "cell_type": "code",
   "execution_count": 19,
   "id": "9de2b72f",
   "metadata": {},
   "outputs": [
    {
     "data": {
      "text/plain": [
       "dict_keys([87])"
      ]
     },
     "execution_count": 19,
     "metadata": {},
     "output_type": "execute_result"
    }
   ],
   "source": [
    "test.keys()"
   ]
  },
  {
   "cell_type": "code",
   "execution_count": 32,
   "id": "ebb749b3",
   "metadata": {},
   "outputs": [
    {
     "name": "stdout",
     "output_type": "stream",
     "text": [
      "skrev 1 faner til doubleVersionsDetaljer.xlsx \n"
     ]
    },
    {
     "name": "stderr",
     "output_type": "stream",
     "text": [
      "/mnt/c/data/leveranser/nvdbapi-V3/nvdbgeotricks.py:512: FutureWarning: save is not part of the public API, usage can give unexpected results and will be removed in a future version\n",
      "  writer.save( )\n"
     ]
    }
   ],
   "source": [
    "dataFrames = []\n",
    "faneNavneListe = []\n",
    "\n",
    "for objType in list( test.keys()):\n",
    "    if objType not in [524, 525] and len( test[objType] ) > 0:\n",
    "        temp = test[objType].copy()\n",
    "        temp.drop( columns='egenskapAnalyse', inplace=True )\n",
    "        dataFrames.append( temp )\n",
    "        faneNavneListe.append( str( objType ) )\n",
    "\n",
    "nvdbgeotricks.skrivexcel( 'doubleVersionsDetaljer.xlsx', dataFrames, sheet_nameListe=faneNavneListe)"
   ]
  },
  {
   "cell_type": "markdown",
   "id": "1c4b3326",
   "metadata": {
    "hideCode": true
   },
   "source": [
    "# Snevrer inn \"vurdering\" til der eldste kan lukkes enkelt + kun stedfesting avviker\n",
    "\n",
    "For enkel - ingen treff lenger på denne metodikken"
   ]
  },
  {
   "cell_type": "code",
   "execution_count": 15,
   "id": "34b497cb",
   "metadata": {},
   "outputs": [],
   "source": [
    "# vurdering = vurdering[ vurdering['UlikeEgenskaper'].isin([ 'Liste av lokasjonsattributt', 'PunktTilknytning' ] ) ]\n",
    "# vurdering = vurdering[ vurdering['eldsteKanLukkesEnkelt'] == True ]"
   ]
  },
  {
   "cell_type": "code",
   "execution_count": 16,
   "id": "dac4dd78",
   "metadata": {},
   "outputs": [
    {
     "data": {
      "text/html": [
       "<div>\n",
       "<style scoped>\n",
       "    .dataframe tbody tr th:only-of-type {\n",
       "        vertical-align: middle;\n",
       "    }\n",
       "\n",
       "    .dataframe tbody tr th {\n",
       "        vertical-align: top;\n",
       "    }\n",
       "\n",
       "    .dataframe thead th {\n",
       "        text-align: right;\n",
       "    }\n",
       "</style>\n",
       "<table border=\"1\" class=\"dataframe\">\n",
       "  <thead>\n",
       "    <tr style=\"text-align: right;\">\n",
       "      <th></th>\n",
       "      <th>objekttype</th>\n",
       "      <th>nvdbId</th>\n",
       "      <th>eldsteVersjon</th>\n",
       "      <th>eldsteStartdato</th>\n",
       "      <th>eldsteSluttdato</th>\n",
       "      <th>eldsteKanLukkesEnkelt</th>\n",
       "      <th>feilmeldinger</th>\n",
       "      <th>tidsvurdering</th>\n",
       "      <th>eldsteNySluttdato</th>\n",
       "      <th>nyesteVersjon</th>\n",
       "      <th>nyesteStartdato</th>\n",
       "      <th>nyesteSluttdato</th>\n",
       "      <th>UlikeEgenskaper</th>\n",
       "      <th>identiskeEgenskaper</th>\n",
       "      <th>egenskapAnalyse</th>\n",
       "    </tr>\n",
       "  </thead>\n",
       "  <tbody>\n",
       "  </tbody>\n",
       "</table>\n",
       "</div>"
      ],
      "text/plain": [
       "Empty DataFrame\n",
       "Columns: [objekttype, nvdbId, eldsteVersjon, eldsteStartdato, eldsteSluttdato, eldsteKanLukkesEnkelt, feilmeldinger, tidsvurdering, eldsteNySluttdato, nyesteVersjon, nyesteStartdato, nyesteSluttdato, UlikeEgenskaper, identiskeEgenskaper, egenskapAnalyse]\n",
       "Index: []"
      ]
     },
     "execution_count": 16,
     "metadata": {},
     "output_type": "execute_result"
    }
   ],
   "source": [
    "# vurdering"
   ]
  },
  {
   "cell_type": "code",
   "execution_count": 19,
   "id": "e4410d3c",
   "metadata": {},
   "outputs": [
    {
     "name": "stdout",
     "output_type": "stream",
     "text": [
      "ftid,fid,vid,nySluttdato\n",
      "825,325597645,1,2012-03-27\n",
      "825,325597644,1,2012-03-27\n",
      "838,530892593,1,2014-07-23\n",
      "487,92542003,7,2018-01-01\n",
      "487,1013978118,2,2021-01-01\n",
      "487,84174328,6,2018-01-01\n",
      "487,290825689,4,2017-12-07\n",
      "487,92541985,7,2018-01-01\n",
      "87,421037268,1,2013-08-08\n",
      "87,421037289,1,2013-08-08\n",
      "87,421037292,1,2013-08-08\n",
      "87,421037291,1,2013-08-08\n",
      "87,915906260,1,2019-01-01\n",
      "87,421037267,1,2013-08-08\n",
      "87,421037270,1,2013-08-08\n",
      "87,421037296,1,2013-08-08\n",
      "87,421037269,1,2013-08-08\n",
      "87,421037290,1,2013-08-08\n",
      "87,421037295,1,2013-08-08\n",
      "87,421037271,1,2013-08-08\n",
      "87,421037272,1,2013-08-08\n",
      "87,915906266,1,2019-01-01\n",
      "87,421037266,1,2013-08-08\n",
      "87,421037293,1,2013-08-08\n",
      "87,421037264,1,2013-08-08\n",
      "87,421037288,1,2013-08-08\n",
      "87,421037294,1,2013-08-08\n",
      "99,599083247,1,2015-06-03\n",
      "99,683417531,1,2016-04-01\n",
      "99,599083255,1,2015-06-03\n",
      "99,599083251,1,2015-06-03\n",
      "95,92363546,6,2020-10-14\n",
      "95,84151863,8,2019-01-21\n",
      "95,92474631,5,2016-01-01\n",
      "95,92411670,6,2021-05-03\n",
      "95,870329401,1,2019-09-06\n",
      "95,1009168231,1,2017-04-01\n",
      "95,92533104,7,2021-06-22\n",
      "95,92533309,6,2018-01-01\n",
      "95,920700235,1,2018-01-01\n",
      "95,870329535,1,2019-08-02\n",
      "96,870332005,1,2019-07-16\n",
      "640,325579685,1,2012-03-27\n",
      "48,218330466,2,2010-01-01\n",
      "5,370453487,3,2015-01-01\n",
      "5,83933632,2,2017-11-28\n",
      "5,92523333,7,2016-01-01\n",
      "5,1007823490,1,2020-01-01\n"
     ]
    }
   ],
   "source": [
    "print( \"ftid,fid,vid,nySluttdato\")\n",
    "for ix, row in vurdering.iterrows(): \n",
    "    print( f\"{row['objekttype']},{row['nvdbId']},{row['eldsteVersjon']},{row['eldsteNySluttdato']}\" )"
   ]
  },
  {
   "cell_type": "markdown",
   "id": "b107cbd3",
   "metadata": {},
   "source": [
    "# Gammal metodikk (funker!)\n",
    "\n",
    "Gir også null treff "
   ]
  },
  {
   "cell_type": "code",
   "execution_count": 20,
   "id": "4a44f7e6",
   "metadata": {},
   "outputs": [],
   "source": [
    "temp = vurdering[ (vurdering['UlikeEgenskaper'] == '') & (vurdering['eldsteKanLukkesEnkelt'] == True)].copy()"
   ]
  },
  {
   "cell_type": "code",
   "execution_count": 21,
   "id": "cdaf3a1f",
   "metadata": {},
   "outputs": [
    {
     "data": {
      "text/plain": [
       "0"
      ]
     },
     "execution_count": 21,
     "metadata": {},
     "output_type": "execute_result"
    }
   ],
   "source": [
    "len(temp)"
   ]
  },
  {
   "cell_type": "code",
   "execution_count": 22,
   "id": "5256108e",
   "metadata": {},
   "outputs": [
    {
     "data": {
      "text/html": [
       "<div>\n",
       "<style scoped>\n",
       "    .dataframe tbody tr th:only-of-type {\n",
       "        vertical-align: middle;\n",
       "    }\n",
       "\n",
       "    .dataframe tbody tr th {\n",
       "        vertical-align: top;\n",
       "    }\n",
       "\n",
       "    .dataframe thead th {\n",
       "        text-align: right;\n",
       "    }\n",
       "</style>\n",
       "<table border=\"1\" class=\"dataframe\">\n",
       "  <thead>\n",
       "    <tr style=\"text-align: right;\">\n",
       "      <th></th>\n",
       "      <th>objekttype</th>\n",
       "      <th>nvdbId</th>\n",
       "      <th>eldsteVersjon</th>\n",
       "      <th>eldsteStartdato</th>\n",
       "      <th>eldsteNySluttdato</th>\n",
       "      <th>nyesteVersjon</th>\n",
       "      <th>nyesteStartdato</th>\n",
       "    </tr>\n",
       "  </thead>\n",
       "  <tbody>\n",
       "  </tbody>\n",
       "</table>\n",
       "</div>"
      ],
      "text/plain": [
       "Empty DataFrame\n",
       "Columns: [objekttype, nvdbId, eldsteVersjon, eldsteStartdato, eldsteNySluttdato, nyesteVersjon, nyesteStartdato]\n",
       "Index: []"
      ]
     },
     "execution_count": 22,
     "metadata": {},
     "output_type": "execute_result"
    }
   ],
   "source": [
    "col2 = [ 'objekttype', 'nvdbId', 'eldsteVersjon', 'eldsteStartdato',\n",
    "       'eldsteNySluttdato', 'nyesteVersjon', 'nyesteStartdato'     ]\n",
    "\n",
    "temp[col2]"
   ]
  },
  {
   "cell_type": "code",
   "execution_count": 23,
   "id": "4d9cdbbd",
   "metadata": {},
   "outputs": [
    {
     "data": {
      "text/html": [
       "<div>\n",
       "<style scoped>\n",
       "    .dataframe tbody tr th:only-of-type {\n",
       "        vertical-align: middle;\n",
       "    }\n",
       "\n",
       "    .dataframe tbody tr th {\n",
       "        vertical-align: top;\n",
       "    }\n",
       "\n",
       "    .dataframe thead th {\n",
       "        text-align: right;\n",
       "    }\n",
       "</style>\n",
       "<table border=\"1\" class=\"dataframe\">\n",
       "  <thead>\n",
       "    <tr style=\"text-align: right;\">\n",
       "      <th></th>\n",
       "      <th>objekttype</th>\n",
       "      <th>nvdbId</th>\n",
       "      <th>eldsteVersjon</th>\n",
       "      <th>eldsteStartdato</th>\n",
       "      <th>eldsteNySluttdato</th>\n",
       "      <th>nyesteVersjon</th>\n",
       "      <th>nyesteStartdato</th>\n",
       "    </tr>\n",
       "  </thead>\n",
       "  <tbody>\n",
       "  </tbody>\n",
       "</table>\n",
       "</div>"
      ],
      "text/plain": [
       "Empty DataFrame\n",
       "Columns: [objekttype, nvdbId, eldsteVersjon, eldsteStartdato, eldsteNySluttdato, nyesteVersjon, nyesteStartdato]\n",
       "Index: []"
      ]
     },
     "execution_count": 23,
     "metadata": {},
     "output_type": "execute_result"
    }
   ],
   "source": [
    "col3 = [ 'objekttype', 'nvdbId', 'eldsteVersjon', 'eldsteStartdato', 'eldsteNySluttdato', 'nyesteVersjon', 'nyesteStartdato'    ]\n",
    "temp[col3]"
   ]
  },
  {
   "cell_type": "code",
   "execution_count": 24,
   "id": "b3607f88",
   "metadata": {},
   "outputs": [
    {
     "name": "stdout",
     "output_type": "stream",
     "text": [
      "ftid,fid,vid,nySluttdato\n"
     ]
    }
   ],
   "source": [
    "print( \"ftid,fid,vid,nySluttdato\")\n",
    "for ix, row in temp.iterrows(): \n",
    "    print( f\"{row['objekttype']},{row['nvdbId']},{row['eldsteVersjon']},{row['eldsteNySluttdato']}\" )"
   ]
  },
  {
   "cell_type": "code",
   "execution_count": 25,
   "id": "8f536da1",
   "metadata": {},
   "outputs": [
    {
     "data": {
      "text/plain": [
       "23"
      ]
     },
     "execution_count": 25,
     "metadata": {},
     "output_type": "execute_result"
    }
   ],
   "source": [
    "len( vurdering[ (vurdering['eldsteKanLukkesEnkelt'] == True)] )"
   ]
  },
  {
   "cell_type": "code",
   "execution_count": 120,
   "id": "d973bd13",
   "metadata": {},
   "outputs": [],
   "source": [
    "myDict =  vurdering[ vurdering['nvdbId'] == 870334560]['egenskapAnalyse']"
   ]
  },
  {
   "cell_type": "code",
   "execution_count": 130,
   "id": "f6abfefc",
   "metadata": {},
   "outputs": [
    {
     "data": {
      "text/plain": [
       "dict"
      ]
     },
     "execution_count": 130,
     "metadata": {},
     "output_type": "execute_result"
    }
   ],
   "source": [
    "type( myDict.iloc[0] )"
   ]
  },
  {
   "cell_type": "code",
   "execution_count": 131,
   "id": "ce088fa8",
   "metadata": {},
   "outputs": [],
   "source": [
    "import json\n",
    "with open( 'dobbeltsjekkObjekt.json', 'w') as f: \n",
    "    json.dump(  myDict.iloc[0], f, indent=4)"
   ]
  },
  {
   "cell_type": "markdown",
   "id": "4e040670",
   "metadata": {},
   "source": [
    "# Hvilke objekter avviker kun på stedfesting? "
   ]
  },
  {
   "cell_type": "code",
   "execution_count": 44,
   "id": "f8768d47",
   "metadata": {},
   "outputs": [
    {
     "data": {
      "text/plain": [
       "13"
      ]
     },
     "execution_count": 44,
     "metadata": {},
     "output_type": "execute_result"
    }
   ],
   "source": [
    "len( vurdering[ vurdering['UlikeEgenskaper'].isin([ 'Liste av lokasjonsattributt', 'PunktTilknytning' ] ) ] )"
   ]
  },
  {
   "cell_type": "code",
   "execution_count": 34,
   "id": "0d5e91d3",
   "metadata": {},
   "outputs": [],
   "source": [
    "r = vurdering['UlikeEgenskaper'].value_counts()"
   ]
  },
  {
   "cell_type": "code",
   "execution_count": 43,
   "id": "3c0ed21f",
   "metadata": {},
   "outputs": [
    {
     "data": {
      "text/plain": [
       "Index(['PunktTilknytning,Geometri, punkt,Plassering',\n",
       "       'PunktTilknytning,Assosierte Skiltplate,Assosierte Tilstand/skade, skiltpunkt,Oppsettingsutstyr',\n",
       "       'Type,Bredde, enkeltlinje,Bruksområde,Plan nedfresing,Farge,Utgår_Løpemeter skravur,Vegbanereflektor,Profilering,Utgår_Areal av fylt sperreområde',\n",
       "       'PunktTilknytning,Assosierte Utgår_Systemobjekt,Assosierte Skiltplate,Assosierte Tilstand/skade, skiltpunkt,Høyde over vegkant,Fundamentering,Oppsettingsutstyr,Antall oppsettingsutstyr,Miljø,Klima,Avstand fra dekkekant,Antall fundament,Eier,Vedlikeholdsansvarlig',\n",
       "       'PunktTilknytning,Assosierte Skiltplate,Geometri, punkt,Fundamentering,Oppsettingsutstyr,Antall oppsettingsutstyr,Antall fundament',\n",
       "       'Type,Bredde, enkeltlinje,Bruksområde,Plan nedfresing,Farge,Vegbanereflektor,Profilering',\n",
       "       'PunktTilknytning,Assosierte Lysmast,Assosierte Lysarmatur,Geometri, punkt,Plassering,Bruksområde',\n",
       "       'Geometri, punkt,Plassering', 'Stigning,Beregningsinfo',\n",
       "       'Materialtype,Diameter',\n",
       "       'Geometri, linje,Type,Linjemønster,Materialtype,Bruksområde,Farge',\n",
       "       'Assosierte Rørledning,Varmekabler,Type,Dybde', 'PunktTilknytning',\n",
       "       'PunktTilknytning,Assosierte Kum,Assosierte Tilstand/skade, punkt,Bredde, innvendig,Bruksområde,Høyde, innvendig,Materialtype,Tverrsnittsform,Lengde',\n",
       "       'Assosierte Tilstand/skade, skiltplate,Geometri, punkt,Skiltnummer',\n",
       "       'PunktTilknytning,Assosierte Tilstand/skade, skiltplate,Geometri, punkt,Skiltnummer,Ansiktsside, rettet mot,Størrelse',\n",
       "       'PunktTilknytning,Geometri, punkt',\n",
       "       'PunktTilknytning,Assosierte Utgår_Systemobjekt,Assosierte Skiltplate,Høyde over vegkant,Fundamentering,Oppsettingsutstyr,Antall oppsettingsutstyr,Avstand fra dekkekant',\n",
       "       'PunktTilknytning,Assosierte Utgår_Systemobjekt,Høyde over vegkant,Fundamentering,Oppsettingsutstyr,Antall oppsettingsutstyr,Avstand fra dekkekant,Antall fundament',\n",
       "       'PunktTilknytning,Assosierte Utgår_Systemobjekt,Fundamentering,Oppsettingsutstyr,Antall oppsettingsutstyr,Antall fundament',\n",
       "       'PunktTilknytning,Assosierte Utgår_Systemobjekt,Assosierte Skiltplate,Høyde over vegkant,Fundamentering,Oppsettingsutstyr,Antall oppsettingsutstyr,Avstand fra dekkekant,Antall fundament',\n",
       "       'PunktTilknytning,Geometri, punkt,Prosjektreferanse,Fundamentering,Oppsettingsutstyr,Antall oppsettingsutstyr,Antall fundament',\n",
       "       'Assosiert Entreprenør,Massetype,Masseforbruk,Dekkebredde, gjennomsnitt,Dekkeleggingsdato,Budsjett,Dekketykkelse,Areal,Øvre nominelle steinstørrelse',\n",
       "       'Liste av lokasjonsattributt,Assosierte Leskur,Assosierte Trafikklomme,Assosierte Kantstein,Assosierte Taktile indikatorer,Assosierte Renovasjon,NSR_Stopplace_Navn,UU_Type transportmiddel,Tilleggsinformasjon,NSR_Stopplace_ID,NSR_Quay_ID,Utgår_Stoppunktnummer, NRI (9 siffer),Holdeplassnavn_Uoffisielt,Utgår_Stoppestedsnummer, NRI (9 siffer)',\n",
       "       'Geometri, linje,Rekkverkstype,Etableringsår,Lengde,Prosjektreferanse,Bruksområde,Høyde,Rekkverksbredde',\n",
       "       'Liste av lokasjonsattributt,Assosierte Leskur,Assosierte Trafikklomme,NSR_Stopplace_Navn,UU_Type transportmiddel,Tilleggsinformasjon,NSR_Stopplace_ID,NSR_Quay_ID,Utgår_Stoppunktnummer, NRI (9 siffer),Holdeplassnavn_Uoffisielt,Utgår_Stoppestedsnummer, NRI (9 siffer),Vedlikeholdsansvarlig',\n",
       "       'Liste av lokasjonsattributt,Assosierte Kantstein,Assosierte Taktile indikatorer,Geometri, punkt,UU_Viktighetsnivå,UU_poeng, beregnet, mulig,UU_Holdeplasskilt,Etableringsår,UU_poeng, beregnet, faktisk,UU_Gangadkomst, stigning,UU_Taktile indikatorer til påstigning,UU_Takoverbygg,UU_På- og avstigning,UU_Oppslagstavle for rutetabell,UU_Sittemulighet,UU_Sykkelparkering,UU_Bilparkering,UU_Type,UU_Belysning,UU_Gangadkomst',\n",
       "       'Liste av lokasjonsattributt,Assosierte Leskur,Assosierte Trafikklomme,Assosierte Utgår_Repos/venteareal,NSR_Stopplace_Navn,UU_Type transportmiddel,UU_poeng, beregnet, mulig,Tilleggsinformasjon,NSR_Stopplace_ID,NSR_Quay_ID,UU_poeng, beregnet, faktisk,UU_Plattform, lengde,Utgår_Stoppunktnummer, NRI (9 siffer),UU_Type,Holdeplassnavn_Uoffisielt,Utgår_Stoppestedsnummer, NRI (9 siffer),Vedlikeholdsansvarlig',\n",
       "       'Liste av lokasjonsattributt,Assosierte Trafikklomme,NSR_Stopplace_Navn,UU_Type transportmiddel,UU_poeng, beregnet, mulig,Tilleggsinformasjon,NSR_Stopplace_ID,UU_poeng, beregnet, faktisk,Utgår_Stoppunktnummer, NRI (9 siffer),UU_Oppslagstavle for rutetabell,UU_Type,Holdeplassnavn_Uoffisielt,Utgår_Stoppestedsnummer, NRI (9 siffer)',\n",
       "       'Liste av lokasjonsattributt,Assosierte Leskur,Assosierte Trafikklomme,Assosierte Renovasjon,NSR_Stopplace_Navn,UU_Type transportmiddel,UU_poeng, beregnet, mulig,Tilleggsinformasjon,NSR_Stopplace_ID,NSR_Quay_ID,UU_poeng, beregnet, faktisk,Utgår_Stoppunktnummer, NRI (9 siffer),UU_Oppslagstavle for rutetabell,Holdeplassnavn_Uoffisielt,Utgår_Stoppestedsnummer, NRI (9 siffer),Vedlikeholdsansvarlig',\n",
       "       'Beregningsinfo,Type,Radius',\n",
       "       'Type,Radius,Høyde start,Høyde slutt,Stigning, start,Stigning, slutt,Beregningsinfo',\n",
       "       'Bruksklasse,Vegliste gjelder alltid,Veggruppe,Maks vogntoglengde',\n",
       "       'Maks vogntoglengde,Bruksklasse,Veggruppe',\n",
       "       'Dekkebredde, maks,Dekkebredde,Dekkebredde, min,Nøyaktighet grunnlag,Beregningsinfo,Dato grunnlag,Grunnlag,Målemetode grunnlag',\n",
       "       'Dekketype,Bruksområde,Lengde med full bredde',\n",
       "       'Assosierte Breddemåling,Belegning,Varmekabler,Eier',\n",
       "       'Assosierte Kantstein,Utforming,Belegning,Type',\n",
       "       'Liste av lokasjonsattributt,Assosierte Rekkverksende,Bruksområde,Skinneutrustning,Utgår_Type skinne,Vedlikeholdsansvarlig',\n",
       "       'Liste av lokasjonsattributt,Rekkverkstype,Etableringsår,Lengde,Bruksområde,Skinneutrustning,Utgår_Type skinne',\n",
       "       'Rekkverkstype',\n",
       "       'Liste av lokasjonsattributt,Rekkverkstype,Etableringsår,Lengde,Bruksområde,Skinneutrustning,Eier,Vedlikeholdsansvarlig',\n",
       "       'Liste av lokasjonsattributt,Assosierte Rekkverksende,Geometri, linje,Etableringsår,Lengde,Stolpeavstand,Bruksområde,Skinneutrustning'],\n",
       "      dtype='object')"
      ]
     },
     "execution_count": 43,
     "metadata": {},
     "output_type": "execute_result"
    }
   ],
   "source": [
    "r.index"
   ]
  },
  {
   "cell_type": "code",
   "execution_count": 58,
   "id": "bd5d1173",
   "metadata": {},
   "outputs": [
    {
     "name": "stdout",
     "output_type": "stream",
     "text": [
      "Versjoner for NVDB objektid 421037290 type 87 Belysningspunkt  \n",
      "421037290 versjon 1 2013-06-26 ----       \t https://nvdbapiles-v3.atlas.vegvesen.no/vegobjekter/87/421037290/1 \n",
      "421037290 versjon 2 2013-08-08 ----       \t https://nvdbapiles-v3.atlas.vegvesen.no/vegobjekter/87/421037290/2 \n"
     ]
    }
   ],
   "source": [
    "objektdifferanser.objektdatoer( 421037290 )"
   ]
  },
  {
   "cell_type": "code",
   "execution_count": 95,
   "id": "7ff61759",
   "metadata": {
    "scrolled": true
   },
   "outputs": [
    {
     "name": "stdout",
     "output_type": "stream",
     "text": [
      "Versjoner for NVDB objektid 915906266 type 87 Belysningspunkt  \n",
      "https://nvdbapiles-v3.atlas.vegvesen.no/vegobjekter/87/915906266/1\n",
      "(Ingen foreldre for objekt ID 915906266 versjon 1 )\n",
      "Anders  87 Belysningspunkt 915906266 v1 2019-02-04 ----      \n",
      "Anders  87 Belysningspunkt 915906266 v1 => 88 Lysarmatur 915906300 v1 2019-02-04 ----      \n",
      "Anders  87 Belysningspunkt 915906266 v1 => 181 Lysmast 915906267 v1 2019-02-04 ----      \n",
      "https://nvdbapiles-v3.atlas.vegvesen.no/vegobjekter/87/915906266/2\n",
      "(Ingen foreldre for objekt ID 915906266 versjon 2 )\n",
      "Beate  87 Belysningspunkt 915906266 v2 2019-01-01 ----      \n",
      "Beate  87 Belysningspunkt 915906266 v2 => 88 Lysarmatur 915906300 v1 2019-02-04 ----      \n",
      "Beate  87 Belysningspunkt 915906266 v2 => 181 Lysmast 915906267 v1 2019-02-04 ----      \n"
     ]
    }
   ],
   "source": [
    "data = andremangler.skrivAlleRelasjonstre( 915906266)"
   ]
  },
  {
   "cell_type": "code",
   "execution_count": 92,
   "id": "2ad67120",
   "metadata": {},
   "outputs": [],
   "source": [
    "url = 'https://nvdbapiles-v3.atlas.vegvesen.no/vegobjekter/99/599083249/'"
   ]
  },
  {
   "cell_type": "code",
   "execution_count": 34,
   "id": "0e1ef853",
   "metadata": {},
   "outputs": [
    {
     "data": {
      "text/plain": [
       "<module 'andremangler' from '/mnt/c/data/leveranser/mangelrapport/andremangler.py'>"
      ]
     },
     "execution_count": 34,
     "metadata": {},
     "output_type": "execute_result"
    }
   ],
   "source": [
    "import importlib\n",
    "importlib.reload( objektdifferanser )\n",
    "importlib.reload( andremangler )"
   ]
  },
  {
   "cell_type": "code",
   "execution_count": 97,
   "id": "7f7aa74f",
   "metadata": {},
   "outputs": [
    {
     "name": "stdout",
     "output_type": "stream",
     "text": [
      "{} \n",
      "---\n"
     ]
    }
   ],
   "source": [
    "differ = objektdifferanser.sammenlignEgenskaper( ['https://nvdbapiles-v3.atlas.vegvesen.no/vegobjekter/87/915906266/1',\n",
    "                                                 'https://nvdbapiles-v3.atlas.vegvesen.no/vegobjekter/87/915906266/2'])\n",
    "print( json.dumps( objektdifferanser.egenskapsavvikDetaljert(differ, 1), indent=4),'\\n---')"
   ]
  },
  {
   "cell_type": "code",
   "execution_count": 94,
   "id": "e9775c1e",
   "metadata": {},
   "outputs": [
    {
     "name": "stdout",
     "output_type": "stream",
     "text": [
      "{} \n",
      "---\n"
     ]
    }
   ],
   "source": [
    "differ = objektdifferanser.sammenlignEgenskaper( ['https://nvdbapiles-v3.atlas.vegvesen.no/vegobjekter/181/421763997/1',\n",
    "                                                 'https://nvdbapiles-v3.atlas.vegvesen.no/vegobjekter/181/421764046/1'])\n",
    "print( json.dumps( objektdifferanser.egenskapsavvikDetaljert(differ, 1), indent=4),'\\n---')"
   ]
  }
 ],
 "metadata": {
  "kernelspec": {
   "display_name": "Python [conda env:kulegeotingJan2023] *",
   "language": "python",
   "name": "conda-env-kulegeotingJan2023-py"
  },
  "language_info": {
   "codemirror_mode": {
    "name": "ipython",
    "version": 3
   },
   "file_extension": ".py",
   "mimetype": "text/x-python",
   "name": "python",
   "nbconvert_exporter": "python",
   "pygments_lexer": "ipython3",
   "version": "3.10.9"
  },
  "vscode": {
   "interpreter": {
    "hash": "6a28272b4702337e8609fa955dcbdee4b2711fe2a5bd87c0e715c65f45c7b6f9"
   }
  }
 },
 "nbformat": 4,
 "nbformat_minor": 5
}
